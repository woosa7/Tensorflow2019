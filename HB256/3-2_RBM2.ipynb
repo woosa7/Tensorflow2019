{
 "cells": [
  {
   "cell_type": "markdown",
   "metadata": {},
   "source": [
    "# 실수 입력 RBM과 이진입력 RBM 비교"
   ]
  },
  {
   "cell_type": "code",
   "execution_count": 1,
   "metadata": {},
   "outputs": [],
   "source": [
    "import numpy as np\n",
    "import pandas as pd\n",
    "\n",
    "%matplotlib inline\n",
    "import matplotlib.pyplot as plt"
   ]
  },
  {
   "cell_type": "code",
   "execution_count": 2,
   "metadata": {},
   "outputs": [],
   "source": [
    "# 시그모이드 함수\n",
    "def sigmoid(x):\n",
    "    return 1/(1+np.exp(-x))"
   ]
  },
  {
   "cell_type": "code",
   "execution_count": 3,
   "metadata": {},
   "outputs": [],
   "source": [
    "# CD-1을 이용한 실수 입력 RBM 알고리즘\n",
    "# 은닉노드 2개\n",
    "\n",
    "def Gau_Ber_RBM(data, _w, _a, _b, learning_rate, phase = 'training'):\n",
    "    \n",
    "    if phase == 'training':\n",
    "        h0_p = sigmoid(np.matmul(data, _w) + _b)\n",
    "        h0 = np.random.binomial(1, h0_p)\n",
    "        x_mu = np.matmul(h0, np.transpose(_w)) + _a\n",
    "        x = np.random.normal(x_mu, 1)\n",
    "        h1_p = sigmoid(np.matmul(x, _w) + _b)\n",
    "        h1 = np.random.binomial(1, h1_p)\n",
    "        w = _w + learning_rate*(np.matmul(np.transpose(data), h0) - np.matmul(np.transpose(x), h1))/len(data)\n",
    "        a = _a + learning_rate*(np.mean(data - x, 0))\n",
    "        b = _b + learning_rate*(np.mean(h0 - h1, 0))\n",
    "        return w, a, b\n",
    "    \n",
    "    elif phase == 'loss':\n",
    "        h0_p = sigmoid(np.matmul(data, _w) + _b)\n",
    "        h0 = np.round(h0_p)\n",
    "        x = np.matmul(h0, np.transpose(_w)) + _a\n",
    "        reconstruction_error = np.mean((data-x)**2)\n",
    "        return reconstruction_error\n",
    "    \n",
    "    else:\n",
    "        print('phase must be training or loss')"
   ]
  },
  {
   "cell_type": "code",
   "execution_count": 4,
   "metadata": {},
   "outputs": [],
   "source": [
    "# CD-1을 이용한 이진 입력 RBM 알고리즘\n",
    "# 은닉노드 2개\n",
    "\n",
    "def Ber_Ber_RBM(data, _w, _a, _b, learning_rate, phase = 'training'):\n",
    "    \n",
    "    if phase=='training':\n",
    "        h0_p = sigmoid(np.matmul(data, _w) + _b)\n",
    "        h0 = np.random.binomial(1, h0_p)\n",
    "        x_p = sigmoid(np.matmul(h0, np.transpose(_w)) + _a)\n",
    "        x = np.random.binomial(1, x_p)\n",
    "        h1_p = sigmoid(np.matmul(x, _w) + _b)\n",
    "        h1 = np.random.binomial(1, h1_p)\n",
    "        w = _w + learning_rate*(np.matmul(np.transpose(data), h0) - np.matmul(np.transpose(x), h1))/len(data)\n",
    "        a = _a + learning_rate*(np.mean(data - x, 0))\n",
    "        b = _b + learning_rate*(np.mean(h0 - h1, 0))\n",
    "        return w, a, b\n",
    "    \n",
    "    elif phase=='loss':\n",
    "        h0_p = sigmoid(np.matmul(data, _w) + _b)\n",
    "        h0 = np.round(h0_p)\n",
    "        x_p = sigmoid(np.matmul(h0, np.transpose(_w)) + _a)\n",
    "        x = np.round(x_p)      \n",
    "        reconstruction_error = np.mean((data-x)**2)\n",
    "        return reconstruction_error\n",
    "    \n",
    "    else:\n",
    "        print('phase must be training or loss')"
   ]
  },
  {
   "cell_type": "code",
   "execution_count": 5,
   "metadata": {},
   "outputs": [
    {
     "data": {
      "text/html": [
       "<div>\n",
       "<style scoped>\n",
       "    .dataframe tbody tr th:only-of-type {\n",
       "        vertical-align: middle;\n",
       "    }\n",
       "\n",
       "    .dataframe tbody tr th {\n",
       "        vertical-align: top;\n",
       "    }\n",
       "\n",
       "    .dataframe thead th {\n",
       "        text-align: right;\n",
       "    }\n",
       "</style>\n",
       "<table border=\"1\" class=\"dataframe\">\n",
       "  <thead>\n",
       "    <tr style=\"text-align: right;\">\n",
       "      <th></th>\n",
       "      <th>sepal_length</th>\n",
       "      <th>sepal_width</th>\n",
       "      <th>petal_length</th>\n",
       "      <th>petal_width</th>\n",
       "      <th>species</th>\n",
       "    </tr>\n",
       "  </thead>\n",
       "  <tbody>\n",
       "    <tr>\n",
       "      <th>0</th>\n",
       "      <td>5.1</td>\n",
       "      <td>3.5</td>\n",
       "      <td>1.4</td>\n",
       "      <td>0.2</td>\n",
       "      <td>setosa</td>\n",
       "    </tr>\n",
       "    <tr>\n",
       "      <th>1</th>\n",
       "      <td>4.9</td>\n",
       "      <td>3.0</td>\n",
       "      <td>1.4</td>\n",
       "      <td>0.2</td>\n",
       "      <td>setosa</td>\n",
       "    </tr>\n",
       "    <tr>\n",
       "      <th>2</th>\n",
       "      <td>4.7</td>\n",
       "      <td>3.2</td>\n",
       "      <td>1.3</td>\n",
       "      <td>0.2</td>\n",
       "      <td>setosa</td>\n",
       "    </tr>\n",
       "    <tr>\n",
       "      <th>3</th>\n",
       "      <td>4.6</td>\n",
       "      <td>3.1</td>\n",
       "      <td>1.5</td>\n",
       "      <td>0.2</td>\n",
       "      <td>setosa</td>\n",
       "    </tr>\n",
       "    <tr>\n",
       "      <th>4</th>\n",
       "      <td>5.0</td>\n",
       "      <td>3.6</td>\n",
       "      <td>1.4</td>\n",
       "      <td>0.2</td>\n",
       "      <td>setosa</td>\n",
       "    </tr>\n",
       "  </tbody>\n",
       "</table>\n",
       "</div>"
      ],
      "text/plain": [
       "   sepal_length  sepal_width  petal_length  petal_width species\n",
       "0           5.1          3.5           1.4          0.2  setosa\n",
       "1           4.9          3.0           1.4          0.2  setosa\n",
       "2           4.7          3.2           1.3          0.2  setosa\n",
       "3           4.6          3.1           1.5          0.2  setosa\n",
       "4           5.0          3.6           1.4          0.2  setosa"
      ]
     },
     "execution_count": 5,
     "metadata": {},
     "output_type": "execute_result"
    }
   ],
   "source": [
    "# 데이터 불러오기\n",
    "url='https://raw.githubusercontent.com/uiuc-cse/data-fa14/gh-pages/data/iris.csv'\n",
    "iris = pd.read_csv(url)\n",
    "\n",
    "# iris 데이터를 입력 데이터와 출력 데이터로 분리        \n",
    "n = iris.shape[0]\n",
    "irisX = np.array(iris.iloc[:,:4])\n",
    "irisY = iris.iloc[:,4]\n",
    "\n",
    "iris.head()"
   ]
  },
  {
   "cell_type": "code",
   "execution_count": 6,
   "metadata": {},
   "outputs": [],
   "source": [
    "# 실수 입력 RBM을 위한 입력 데이터의 표준화(standardization) \n",
    "\n",
    "moments = np.mean(irisX, 0), np.var(irisX, 0)\n",
    "standardized_irisX = (irisX-moments[0])/np.sqrt(moments[1])  \n",
    "\n",
    "# 이진 입력 RBM을 위한 입력 데이터의 정규화(normalization) \n",
    "\n",
    "minmax = np.amin(irisX, 0), np.amax(irisX, 0)\n",
    "normalized_irisX = (irisX-minmax[0])/(minmax[1]-minmax[0])  "
   ]
  },
  {
   "cell_type": "code",
   "execution_count": 7,
   "metadata": {},
   "outputs": [],
   "source": [
    "# 입력노드 4개 은닉노드 2개의 RBM 구축\n",
    "_w = np.random.normal(size = [4,2], scale = 0.1)\n",
    "_a = np.zeros([4])\n",
    "_b = np.zeros([2])\n",
    "\n",
    "tr_h = sigmoid(np.matmul(normalized_irisX, _w) + _b)"
   ]
  },
  {
   "cell_type": "code",
   "execution_count": 8,
   "metadata": {},
   "outputs": [],
   "source": [
    "learning_rate = 5*1e-3\n",
    "max_epoch = 1500\n",
    "batch_size= 5"
   ]
  },
  {
   "cell_type": "code",
   "execution_count": 9,
   "metadata": {},
   "outputs": [
    {
     "name": "stdout",
     "output_type": "stream",
     "text": [
      "0.9296087934806269\n",
      "0.9298296649890005\n",
      "0.929909798261842\n",
      "0.9304078521990228\n",
      "0.9287106419322015\n",
      "0.932212067611906\n",
      "0.9313708130722756\n",
      "0.9308364613098672\n",
      "0.9294048667878493\n",
      "0.9297937251487618\n",
      "0.9315218166681837\n",
      "0.9297920639585584\n",
      "0.9311924730362193\n",
      "0.9308128420210179\n",
      "0.9307513094667308\n"
     ]
    }
   ],
   "source": [
    "# 실수 입력 RBM 학습\n",
    "for learning_epoch in range(max_epoch):\n",
    "    rannum = np.random.permutation(len(standardized_irisX))\n",
    "    num_batch = int(len(standardized_irisX)/batch_size)\n",
    "    \n",
    "    for it in range(num_batch):\n",
    "        batch_X = standardized_irisX[rannum[it*batch_size:(it+1)*batch_size]]\n",
    "        w, a, b = Gau_Ber_RBM(batch_X, _w, _a, _b, learning_rate, phase = 'training')\n",
    "        \n",
    "    if (learning_epoch+1)%100 == 0:\n",
    "        print(Gau_Ber_RBM(standardized_irisX, w, a, b, learning_rate, phase = 'loss'))\n",
    "\n",
    "real_h = sigmoid(np.matmul(standardized_irisX, w) + b)"
   ]
  },
  {
   "cell_type": "code",
   "execution_count": 10,
   "metadata": {},
   "outputs": [
    {
     "data": {
      "image/png": "[encoded data removed]",
      "text/plain": [
       "<Figure size 432x288 with 1 Axes>"
      ]
     },
     "metadata": {
      "needs_background": "light"
     },
     "output_type": "display_data"
    }
   ],
   "source": [
    "# 실수 입력 RBM 결과 산점도\n",
    "plt.scatter(real_h[np.where(irisY=='setosa')[0], 0], real_h[np.where(irisY=='setosa')[0], 1], color = 'red')\n",
    "plt.scatter(real_h[np.where(irisY=='virginica')[0], 0], real_h[np.where(irisY=='virginica')[0], 1], color = 'blue')\n",
    "plt.scatter(real_h[np.where(irisY=='versicolor')[0], 0], real_h[np.where(irisY=='versicolor')[0], 1], color = 'black')\n",
    "plt.show()"
   ]
  },
  {
   "cell_type": "code",
   "execution_count": 11,
   "metadata": {},
   "outputs": [
    {
     "name": "stdout",
     "output_type": "stream",
     "text": [
      "0.3054210198285401\n",
      "0.342746820205188\n",
      "0.342746820205188\n",
      "0.32163570909407685\n",
      "0.3054210198285401\n",
      "0.3265321309396512\n",
      "0.30709867205703983\n",
      "0.342746820205188\n",
      "0.3731634868718547\n",
      "0.35205237576074355\n",
      "0.3164042276125954\n",
      "0.342746820205188\n",
      "0.269772871680392\n",
      "0.3265321309396512\n",
      "0.269772871680392\n"
     ]
    }
   ],
   "source": [
    "# 이진 입력 RBM 학습\n",
    "for learning_epoch in range(max_epoch):\n",
    "    rannum = np.random.permutation(len(normalized_irisX))\n",
    "    num_batch = int(len(normalized_irisX)/batch_size)\n",
    "    \n",
    "    for it in range(num_batch):\n",
    "        batch_X = normalized_irisX[rannum[it*batch_size:(it+1)*batch_size]]\n",
    "        w, a, b = Ber_Ber_RBM(batch_X, _w, _a, _b, learning_rate, phase = 'training')\n",
    "        \n",
    "    if (learning_epoch+1)%100 == 0:\n",
    "        print(Ber_Ber_RBM(normalized_irisX, w, a, b, learning_rate, phase = 'loss'))\n",
    "\n",
    "binary_h = sigmoid(np.matmul(normalized_irisX, w) + b)      "
   ]
  },
  {
   "cell_type": "code",
   "execution_count": 12,
   "metadata": {},
   "outputs": [
    {
     "data": {
      "image/png": "[encoded data removed]",
      "text/plain": [
       "<Figure size 432x288 with 1 Axes>"
      ]
     },
     "metadata": {
      "needs_background": "light"
     },
     "output_type": "display_data"
    }
   ],
   "source": [
    "# 이진 입력 RBM 결과 산점도\n",
    "plt.scatter(binary_h[np.where(irisY=='setosa')[0], 0], binary_h[np.where(irisY=='setosa')[0], 1], color = 'red')\n",
    "plt.scatter(binary_h[np.where(irisY=='virginica')[0], 0], binary_h[np.where(irisY=='virginica')[0], 1], color = 'blue')\n",
    "plt.scatter(binary_h[np.where(irisY=='versicolor')[0], 0], binary_h[np.where(irisY=='versicolor')[0], 1], color = 'black')\n",
    "plt.show()"
   ]
  }
 ],
 "metadata": {
  "kernelspec": {
   "display_name": "Python 3",
   "language": "python",
   "name": "python3"
  },
  "language_info": {
   "codemirror_mode": {
    "name": "ipython",
    "version": 3
   },
   "file_extension": ".py",
   "mimetype": "text/x-python",
   "name": "python",
   "nbconvert_exporter": "python",
   "pygments_lexer": "ipython3",
   "version": "3.7.3"
  }
 },
 "nbformat": 4,
 "nbformat_minor": 2
}
