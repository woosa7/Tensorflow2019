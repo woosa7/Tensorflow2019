{
 "cells": [
  {
   "cell_type": "markdown",
   "metadata": {},
   "source": [
    "# Binary input RBM"
   ]
  },
  {
   "cell_type": "markdown",
   "metadata": {},
   "source": [
    "RBM (Restricted Boltzmann Machine)\n",
    "\n",
    "* input으로부터 feature를 생성하기 위해 deep belief network에서 RBM과 autoencoder 사용.\n",
    "* 입력 집합에 대한 확률 분포를 학습할 수 있는 생성적 확률적 인공신경망.\n",
    "* RBM은 input layer와 hidden layer 각 1개로 구성됨.\n",
    "\n",
    "Contrastive divergence (CD)\n",
    "\n",
    "* CD는 Hinton이 제안. Gibbs 표본추출법을 이용하는 RBM의 간단한 학습법. \n",
    "* CD-k : k번째 단계를 사용하는 CD.\n",
    "* RBM을 쌓으면 다층 RBM이 되는 것이 아니라 DBN과 비슷해진다는 사실을 발견. 이는 DBN학습을 단순히 여러 개의 RBM 학습으로 환원시킴으로써 어려운 DBN 학습의 복잡도를 층의 개수에 비례하는 복잡도로 낮추었다."
   ]
  },
  {
   "cell_type": "markdown",
   "metadata": {},
   "source": [
    "참조 - `내 맘대로 이해하는 DBN과 RBM` (https://www.whydsp.org/283)"
   ]
  },
  {
   "cell_type": "markdown",
   "metadata": {},
   "source": [
    "### MNIST 데이터에 binary RBM 적용"
   ]
  },
  {
   "cell_type": "code",
   "execution_count": 1,
   "metadata": {},
   "outputs": [],
   "source": [
    "import numpy as np\n",
    "import pandas as pd\n",
    "import tensorflow as tf\n",
    "\n",
    "%matplotlib inline\n",
    "import matplotlib.pyplot as plt\n",
    "\n",
    "from tensorflow.examples.tutorials.mnist import input_data"
   ]
  },
  {
   "cell_type": "code",
   "execution_count": 2,
   "metadata": {},
   "outputs": [
    {
     "name": "stdout",
     "output_type": "stream",
     "text": [
      "WARNING:tensorflow:From <ipython-input-2-a379e59fbe60>:3: read_data_sets (from tensorflow.contrib.learn.python.learn.datasets.mnist) is deprecated and will be removed in a future version.\n",
      "Instructions for updating:\n",
      "Please use alternatives such as official/mnist/dataset.py from tensorflow/models.\n",
      "WARNING:tensorflow:From C:\\Anaconda3\\lib\\site-packages\\tensorflow\\contrib\\learn\\python\\learn\\datasets\\mnist.py:260: maybe_download (from tensorflow.contrib.learn.python.learn.datasets.base) is deprecated and will be removed in a future version.\n",
      "Instructions for updating:\n",
      "Please write your own downloading logic.\n",
      "WARNING:tensorflow:From C:\\Anaconda3\\lib\\site-packages\\tensorflow\\contrib\\learn\\python\\learn\\datasets\\mnist.py:262: extract_images (from tensorflow.contrib.learn.python.learn.datasets.mnist) is deprecated and will be removed in a future version.\n",
      "Instructions for updating:\n",
      "Please use tf.data to implement this functionality.\n",
      "Extracting ../temp/MNIST_data\\train-images-idx3-ubyte.gz\n",
      "WARNING:tensorflow:From C:\\Anaconda3\\lib\\site-packages\\tensorflow\\contrib\\learn\\python\\learn\\datasets\\mnist.py:267: extract_labels (from tensorflow.contrib.learn.python.learn.datasets.mnist) is deprecated and will be removed in a future version.\n",
      "Instructions for updating:\n",
      "Please use tf.data to implement this functionality.\n",
      "Extracting ../temp/MNIST_data\\train-labels-idx1-ubyte.gz\n",
      "WARNING:tensorflow:From C:\\Anaconda3\\lib\\site-packages\\tensorflow\\contrib\\learn\\python\\learn\\datasets\\mnist.py:110: dense_to_one_hot (from tensorflow.contrib.learn.python.learn.datasets.mnist) is deprecated and will be removed in a future version.\n",
      "Instructions for updating:\n",
      "Please use tf.one_hot on tensors.\n",
      "Extracting ../temp/MNIST_data\\t10k-images-idx3-ubyte.gz\n",
      "Extracting ../temp/MNIST_data\\t10k-labels-idx1-ubyte.gz\n",
      "WARNING:tensorflow:From C:\\Anaconda3\\lib\\site-packages\\tensorflow\\contrib\\learn\\python\\learn\\datasets\\mnist.py:290: DataSet.__init__ (from tensorflow.contrib.learn.python.learn.datasets.mnist) is deprecated and will be removed in a future version.\n",
      "Instructions for updating:\n",
      "Please use alternatives such as official/mnist/dataset.py from tensorflow/models.\n"
     ]
    },
    {
     "data": {
      "text/plain": [
       "55000"
      ]
     },
     "execution_count": 2,
     "metadata": {},
     "output_type": "execute_result"
    }
   ],
   "source": [
    "# Load data\n",
    "mnist = input_data.read_data_sets(\"../temp/MNIST_data\", one_hot=True)  # label = one hot.\n",
    "\n",
    "mnist.train.num_examples"
   ]
  },
  {
   "cell_type": "code",
   "execution_count": 3,
   "metadata": {},
   "outputs": [],
   "source": [
    "# 학습관련 매개변수 설정\n",
    "\n",
    "n_input      = 784\n",
    "n_hidden     = 500\n",
    "display_step = 10\n",
    "num_epochs   = 100\n",
    "batch_size   = 256 \n",
    "lr           = tf.constant(0.001, tf.float32)"
   ]
  },
  {
   "cell_type": "code",
   "execution_count": 4,
   "metadata": {},
   "outputs": [],
   "source": [
    "# 입력, 가중치 및 편향 정의\n",
    "\n",
    "x   = tf.placeholder(tf.float32, [None, n_input], name=\"x\")\n",
    "\n",
    "W   = tf.Variable(tf.random_normal([n_input, n_hidden], 0.01), name=\"W\")\n",
    "b_h = tf.Variable(tf.zeros([1, n_hidden],  tf.float32, name=\"b_h\"))\n",
    "b_i = tf.Variable(tf.zeros([1, n_input],  tf.float32, name=\"b_i\"))"
   ]
  },
  {
   "cell_type": "code",
   "execution_count": 5,
   "metadata": {},
   "outputs": [],
   "source": [
    "# 확률을 이산 상태, 즉 0과 1로 변환\n",
    "def binary(probs):\n",
    "    return tf.floor(probs + tf.random_uniform(tf.shape(probs), 0, 1))\n",
    "          \n",
    "# 단계별 Gibbs 표본추출\n",
    "def cd_step(x_k):\n",
    "    h_k = binary(tf.sigmoid(tf.matmul(x_k, W) + b_h)) \n",
    "    x_k = binary(tf.sigmoid(tf.matmul(h_k, tf.transpose(W)) + b_i))\n",
    "    return x_k\n",
    "\n",
    "# 표본추출 실행     \n",
    "def cd_gibbs(k, x_k):\n",
    "    for i in range(k):\n",
    "        x_out = cd_step(x_k) \n",
    "        \n",
    "    # k번 반복 후 Gibbs 표본 반환\n",
    "    return x_out"
   ]
  },
  {
   "cell_type": "code",
   "execution_count": 6,
   "metadata": {},
   "outputs": [
    {
     "name": "stdout",
     "output_type": "stream",
     "text": [
      "Tensor(\"Floor_3:0\", shape=(?, 784), dtype=float32)\n",
      "Tensor(\"Sigmoid_4:0\", shape=(?, 500), dtype=float32)\n",
      "Tensor(\"Sigmoid_5:0\", shape=(?, 500), dtype=float32)\n",
      "Tensor(\"Floor_4:0\", shape=(?, 784), dtype=float32)\n"
     ]
    }
   ],
   "source": [
    "# CD-2 알고리즘\n",
    "# 1. 현재 입력값을 기반으로 Gibbs 표본추출을 통해 새로운 입력값 x_s를 구함\n",
    "# 2. 새로운 x_s를 기반으로 새로운 은닉노드 값 act_h_s를 구함  \n",
    "\n",
    "x_s = cd_gibbs(2,x)\n",
    "act_h_s = tf.sigmoid(tf.matmul(x_s, W) + b_h) \n",
    "\n",
    "# 입력값이 주어질 때 은닉노드 값 act_h를 구함\n",
    "\n",
    "act_h = tf.sigmoid(tf.matmul(x, W) + b_h) \n",
    "\n",
    "# 은닉노드 값이 주어질 때 입력값을 추출함\n",
    "\n",
    "_x = binary(tf.sigmoid(tf.matmul(act_h, tf.transpose(W)) + b_i))\n",
    "\n",
    "print(x_s)\n",
    "print(act_h_s)\n",
    "print(act_h)\n",
    "print(_x)"
   ]
  },
  {
   "cell_type": "code",
   "execution_count": 7,
   "metadata": {},
   "outputs": [],
   "source": [
    "# 경사 하강법을 이용한 가중치 및 편향 업데이트\n",
    "\n",
    "W_add  = tf.multiply(lr/batch_size, tf.subtract(tf.matmul(tf.transpose(x), act_h), tf.matmul(tf.transpose(x_s), act_h_s)))\n",
    "\n",
    "bi_add = tf.multiply(lr/batch_size, tf.reduce_sum(tf.subtract(x, x_s), 0, True))\n",
    "bh_add = tf.multiply(lr/batch_size, tf.reduce_sum(tf.subtract(act_h, act_h_s), 0, True))\n",
    "\n",
    "train_op = [W.assign_add(W_add), b_i.assign_add(bi_add), b_h.assign_add(bh_add)]"
   ]
  },
  {
   "cell_type": "code",
   "execution_count": 8,
   "metadata": {},
   "outputs": [
    {
     "name": "stdout",
     "output_type": "stream",
     "text": [
      "Epoch: 0001\n",
      "Epoch: 0011\n",
      "Epoch: 0021\n",
      "Epoch: 0031\n",
      "Epoch: 0041\n",
      "Epoch: 0051\n",
      "Epoch: 0061\n",
      "Epoch: 0071\n",
      "Epoch: 0081\n",
      "Epoch: 0091\n",
      "RBM training Completed !\n",
      "7\n",
      "2\n",
      "1\n",
      "0\n",
      "4\n",
      "1\n",
      "4\n",
      "9\n",
      "5\n",
      "9\n",
      "0\n",
      "6\n",
      "9\n",
      "0\n",
      "1\n",
      "5\n",
      "9\n",
      "7\n",
      "3\n",
      "4\n"
     ]
    },
    {
     "data": {
      "image/png": "[encoded data removed]",
      "text/plain": [
       "<Figure size 432x288 with 20 Axes>"
      ]
     },
     "metadata": {
      "needs_background": "light"
     },
     "output_type": "display_data"
    },
    {
     "data": {
      "image/png": "[encoded data removed]",
      "text/plain": [
       "<Figure size 432x288 with 20 Axes>"
      ]
     },
     "metadata": {
      "needs_background": "light"
     },
     "output_type": "display_data"
    }
   ],
   "source": [
    "# Training\n",
    "\n",
    "with tf.Session() as sess:\n",
    "    \n",
    "    init = tf.global_variables_initializer()\n",
    "    sess.run(init)\n",
    "    \n",
    "    total_batch = int(mnist.train.num_examples/batch_size)    \n",
    "    \n",
    "    for epoch in range(num_epochs):\n",
    "        for i in range(total_batch):\n",
    "            batch_xs, batch_ys = mnist.train.next_batch(batch_size)\n",
    "            \n",
    "            # 가중치 업데이트 실행 \n",
    "            batch_xs = (batch_xs > 0)*1\n",
    "            _ = sess.run([train_op], feed_dict={x:batch_xs})\n",
    "            \n",
    "        if (epoch+1) % display_step == 0:\n",
    "            print(\"Epoch:\", '%04d' % (epoch+1))\n",
    "    \n",
    "    print(\"RBM training Completed !\")\n",
    "    \n",
    "    # 20개의 검정용 이미지에 대해 은닉노드의 값을 계산\n",
    "    out = sess.run(act_h, feed_dict={x:(mnist.test.images[:20]> 0)*1})\n",
    "    label = mnist.test.labels[:20]\n",
    "    \n",
    "    # 20개의 실제 검정용 이미지\n",
    "    plt.figure(1)\n",
    "    for k in range(20):\n",
    "        plt.subplot(4, 5, k+1)\n",
    "        image = (mnist.test.images[k]> 0)*1\n",
    "        image = np.reshape(image,(28,28))\n",
    "        plt.imshow(image,cmap='gray')\n",
    "        \n",
    "    # 20개의 생성된 검정용 이미지\n",
    "    plt.figure(2)\n",
    "    for k in range(20):\n",
    "        plt.subplot(4, 5, k+1)\n",
    "        image = sess.run(_x, feed_dict={act_h:np.reshape(out[k],(-1,n_hidden))})\n",
    "        image = np.reshape(image,(28,28))\n",
    "        plt.imshow(image,cmap='gray')\n",
    "        print(np.argmax(label[k]))\n",
    "        \n",
    "    W_out = sess.run(W)"
   ]
  }
 ],
 "metadata": {
  "kernelspec": {
   "display_name": "Python 3",
   "language": "python",
   "name": "python3"
  },
  "language_info": {
   "codemirror_mode": {
    "name": "ipython",
    "version": 3
   },
   "file_extension": ".py",
   "mimetype": "text/x-python",
   "name": "python",
   "nbconvert_exporter": "python",
   "pygments_lexer": "ipython3",
   "version": "3.7.3"
  }
 },
 "nbformat": 4,
 "nbformat_minor": 2
}
