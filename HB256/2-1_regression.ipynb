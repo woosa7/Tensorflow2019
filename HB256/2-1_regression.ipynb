{
 "cells": [
  {
   "cell_type": "markdown",
   "metadata": {},
   "source": [
    "## Linear regression with tensorflow"
   ]
  },
  {
   "cell_type": "code",
   "execution_count": 1,
   "metadata": {
    "colab": {},
    "colab_type": "code",
    "id": "m-8dfIKPjqnX"
   },
   "outputs": [],
   "source": [
    "import pandas as pd\n",
    "import numpy as np\n",
    "import tensorflow as tf\n",
    "import random\n",
    "from sklearn.preprocessing import LabelEncoder, normalize"
   ]
  },
  {
   "cell_type": "code",
   "execution_count": 2,
   "metadata": {
    "colab": {},
    "colab_type": "code",
    "id": "rNn2cPPIktoI"
   },
   "outputs": [
    {
     "data": {
      "text/html": [
       "<div>\n",
       "<style scoped>\n",
       "    .dataframe tbody tr th:only-of-type {\n",
       "        vertical-align: middle;\n",
       "    }\n",
       "\n",
       "    .dataframe tbody tr th {\n",
       "        vertical-align: top;\n",
       "    }\n",
       "\n",
       "    .dataframe thead th {\n",
       "        text-align: right;\n",
       "    }\n",
       "</style>\n",
       "<table border=\"1\" class=\"dataframe\">\n",
       "  <thead>\n",
       "    <tr style=\"text-align: right;\">\n",
       "      <th></th>\n",
       "      <th>card</th>\n",
       "      <th>reports</th>\n",
       "      <th>age</th>\n",
       "      <th>income</th>\n",
       "      <th>share</th>\n",
       "      <th>expenditure</th>\n",
       "      <th>owner</th>\n",
       "      <th>selfemp</th>\n",
       "      <th>dependents</th>\n",
       "      <th>months</th>\n",
       "      <th>majorcards</th>\n",
       "      <th>active</th>\n",
       "    </tr>\n",
       "  </thead>\n",
       "  <tbody>\n",
       "    <tr>\n",
       "      <th>0</th>\n",
       "      <td>yes</td>\n",
       "      <td>0</td>\n",
       "      <td>37.66667</td>\n",
       "      <td>4.5200</td>\n",
       "      <td>0.033270</td>\n",
       "      <td>124.983300</td>\n",
       "      <td>yes</td>\n",
       "      <td>no</td>\n",
       "      <td>3</td>\n",
       "      <td>54</td>\n",
       "      <td>1</td>\n",
       "      <td>12</td>\n",
       "    </tr>\n",
       "    <tr>\n",
       "      <th>1</th>\n",
       "      <td>yes</td>\n",
       "      <td>0</td>\n",
       "      <td>33.25000</td>\n",
       "      <td>2.4200</td>\n",
       "      <td>0.005217</td>\n",
       "      <td>9.854167</td>\n",
       "      <td>no</td>\n",
       "      <td>no</td>\n",
       "      <td>3</td>\n",
       "      <td>34</td>\n",
       "      <td>1</td>\n",
       "      <td>13</td>\n",
       "    </tr>\n",
       "    <tr>\n",
       "      <th>2</th>\n",
       "      <td>yes</td>\n",
       "      <td>0</td>\n",
       "      <td>33.66667</td>\n",
       "      <td>4.5000</td>\n",
       "      <td>0.004156</td>\n",
       "      <td>15.000000</td>\n",
       "      <td>yes</td>\n",
       "      <td>no</td>\n",
       "      <td>4</td>\n",
       "      <td>58</td>\n",
       "      <td>1</td>\n",
       "      <td>5</td>\n",
       "    </tr>\n",
       "    <tr>\n",
       "      <th>3</th>\n",
       "      <td>yes</td>\n",
       "      <td>0</td>\n",
       "      <td>30.50000</td>\n",
       "      <td>2.5400</td>\n",
       "      <td>0.065214</td>\n",
       "      <td>137.869200</td>\n",
       "      <td>no</td>\n",
       "      <td>no</td>\n",
       "      <td>0</td>\n",
       "      <td>25</td>\n",
       "      <td>1</td>\n",
       "      <td>7</td>\n",
       "    </tr>\n",
       "    <tr>\n",
       "      <th>4</th>\n",
       "      <td>yes</td>\n",
       "      <td>0</td>\n",
       "      <td>32.16667</td>\n",
       "      <td>9.7867</td>\n",
       "      <td>0.067051</td>\n",
       "      <td>546.503300</td>\n",
       "      <td>yes</td>\n",
       "      <td>no</td>\n",
       "      <td>2</td>\n",
       "      <td>64</td>\n",
       "      <td>1</td>\n",
       "      <td>5</td>\n",
       "    </tr>\n",
       "  </tbody>\n",
       "</table>\n",
       "</div>"
      ],
      "text/plain": [
       "  card  reports       age  income     share  expenditure owner selfemp  \\\n",
       "0  yes        0  37.66667  4.5200  0.033270   124.983300   yes      no   \n",
       "1  yes        0  33.25000  2.4200  0.005217     9.854167    no      no   \n",
       "2  yes        0  33.66667  4.5000  0.004156    15.000000   yes      no   \n",
       "3  yes        0  30.50000  2.5400  0.065214   137.869200    no      no   \n",
       "4  yes        0  32.16667  9.7867  0.067051   546.503300   yes      no   \n",
       "\n",
       "   dependents  months  majorcards  active  \n",
       "0           3      54           1      12  \n",
       "1           3      34           1      13  \n",
       "2           4      58           1       5  \n",
       "3           0      25           1       7  \n",
       "4           2      64           1       5  "
      ]
     },
     "execution_count": 2,
     "metadata": {},
     "output_type": "execute_result"
    }
   ],
   "source": [
    "### 데이터 로딩 ###\n",
    "credit_card = pd.read_csv('data/CreditCard.csv')\n",
    "credit_card.head()\n",
    "\n",
    "# share : 소득 대비 신용카드 지출 비율\n",
    "# reports : 경멸적 보고서 수\n",
    "# income : 수입. USD 10,000\n",
    "# expenditure : 월 평균 카드 지출액\n",
    "# dependents : 부양가족 수\n",
    "# majorcards : 사용 카드 수\n",
    "# active : 신용계정 수"
   ]
  },
  {
   "cell_type": "code",
   "execution_count": 3,
   "metadata": {
    "colab": {},
    "colab_type": "code",
    "id": "bjr7cesxk14N"
   },
   "outputs": [],
   "source": [
    "### 범주형 변수 더미화 ###\n",
    "\n",
    "credit_cat = credit_card[[\"card\", \"owner\", \"selfemp\"]]   # yes or no --> 1 or 0\n",
    "\n",
    "label_enc = LabelEncoder()\n",
    "\n",
    "card = label_enc.fit_transform(credit_cat[\"card\"])\n",
    "card.shape = (len(card), 1)\n",
    "\n",
    "owner = label_enc.fit_transform(credit_cat[\"owner\"])\n",
    "owner.shape = (len(owner), 1)\n",
    "\n",
    "selfemp = label_enc.fit_transform(credit_cat[\"selfemp\"])\n",
    "selfemp.shape = (len(selfemp), 1)"
   ]
  },
  {
   "cell_type": "code",
   "execution_count": 4,
   "metadata": {
    "colab": {},
    "colab_type": "code",
    "id": "-bNfkFmIstVy"
   },
   "outputs": [],
   "source": [
    "### 수치형 변수 정규화 ###\n",
    "credit_num  = credit_card.drop([\"card\", \"owner\", \"selfemp\", \"share\"], axis = 1)\n",
    "credit_num_norm = normalize(credit_num)"
   ]
  },
  {
   "cell_type": "code",
   "execution_count": 5,
   "metadata": {
    "colab": {},
    "colab_type": "code",
    "id": "5JJCrhSSyFB8"
   },
   "outputs": [],
   "source": [
    "### X, y 데이터 설정 ###\n",
    "\n",
    "credit_X = np.concatenate([card, owner, selfemp, credit_num_norm], axis = 1)\n",
    "\n",
    "credit_y = np.array(credit_card['share'])\n",
    "credit_y.shape = (len(credit_y), 1)"
   ]
  },
  {
   "cell_type": "code",
   "execution_count": 6,
   "metadata": {
    "colab": {},
    "colab_type": "code",
    "id": "PmzKHTg3dHzV"
   },
   "outputs": [
    {
     "name": "stdout",
     "output_type": "stream",
     "text": [
      "(923, 11) (396, 11)\n"
     ]
    }
   ],
   "source": [
    "### train, test 데이터로 분할 ###\n",
    "train_idx = random.sample(list(range(len(credit_card))), int(len(credit_card) * 0.7))\n",
    "\n",
    "train_X = credit_X[train_idx, :]\n",
    "train_y = credit_y[train_idx]\n",
    "\n",
    "test_X = np.delete(credit_X, train_idx, axis = 0)\n",
    "test_y = np.delete(credit_y, train_idx)\n",
    "test_y.shape = (len(test_y), 1)\n",
    "\n",
    "print(train_X.shape, test_X.shape)"
   ]
  },
  {
   "cell_type": "markdown",
   "metadata": {},
   "source": [
    "### Tensorflow Low API"
   ]
  },
  {
   "cell_type": "code",
   "execution_count": 7,
   "metadata": {
    "colab": {},
    "colab_type": "code",
    "id": "MgmKgtwwjs64"
   },
   "outputs": [],
   "source": [
    "X = tf.placeholder(dtype = tf.float32, shape = (None, 11))\n",
    "y = tf.placeholder(dtype = tf.float32, shape = None)\n",
    "\n",
    "W1 = tf.Variable(initial_value = tf.random_normal([11,4]), dtype = tf.float32)\n",
    "b1 = tf.Variable(initial_value = tf.random_normal([4]), dtype = tf.float32)\n",
    "L1 = tf.add(tf.matmul(X, W1), b1)\n",
    "\n",
    "W2 = tf.Variable(initial_value = tf.random_normal([4, 1]), dtype = tf.float32)\n",
    "b2 = tf.Variable(initial_value = tf.random_normal([1]), dtype = tf.float32)\n",
    "\n",
    "hypo = tf.add(tf.matmul(L1, W2), b2)"
   ]
  },
  {
   "cell_type": "code",
   "execution_count": 8,
   "metadata": {
    "colab": {},
    "colab_type": "code",
    "id": "SsETj2j5OONN"
   },
   "outputs": [],
   "source": [
    "cost = tf.reduce_mean(tf.square(hypo - y))\n",
    "\n",
    "optimizer = tf.train.GradientDescentOptimizer(learning_rate = 0.01)\n",
    "train = optimizer.minimize(cost)\n",
    "\n",
    "sess = tf.Session()\n",
    "sess.run(tf.global_variables_initializer())"
   ]
  },
  {
   "cell_type": "code",
   "execution_count": 9,
   "metadata": {
    "colab": {
     "base_uri": "https://localhost:8080/",
     "height": 210
    },
    "colab_type": "code",
    "executionInfo": {
     "elapsed": 1033,
     "status": "ok",
     "timestamp": 1549854913212,
     "user": {
      "displayName": "BONGGEUN CHOI",
      "photoUrl": "",
      "userId": "13192430529567238042"
     },
     "user_tz": -540
    },
    "id": "gNj_Y3TUZ-Vc",
    "outputId": "a53e602b-93d4-4f23-ce3f-d668ecad327f"
   },
   "outputs": [
    {
     "name": "stdout",
     "output_type": "stream",
     "text": [
      "cost:  4.4259224\n",
      "cost:  0.36476627\n",
      "cost:  0.15249616\n",
      "cost:  0.08692374\n",
      "cost:  0.05757766\n",
      "cost:  0.0417399\n",
      "cost:  0.032163683\n",
      "cost:  0.025910072\n",
      "cost:  0.02159193\n",
      "cost:  0.018481601\n",
      "train_finished!\n"
     ]
    }
   ],
   "source": [
    "for i in range(1000):\n",
    "    _, cost_val = sess.run([train, cost], feed_dict = {X: train_X, y : train_y})\n",
    "    if i % 100 == 0:\n",
    "        print(\"cost: \", cost_val)\n",
    "        \n",
    "print(\"train_finished!\")"
   ]
  },
  {
   "cell_type": "code",
   "execution_count": 10,
   "metadata": {
    "colab": {
     "base_uri": "https://localhost:8080/",
     "height": 7004
    },
    "colab_type": "code",
    "executionInfo": {
     "elapsed": 545,
     "status": "ok",
     "timestamp": 1549863091948,
     "user": {
      "displayName": "BONGGEUN CHOI",
      "photoUrl": "",
      "userId": "13192430529567238042"
     },
     "user_tz": -540
    },
    "id": "7O4DSK0JbC45",
    "outputId": "b440aeab-2f07-43c7-bc05-61ad3dcc713c",
    "scrolled": false
   },
   "outputs": [
    {
     "name": "stdout",
     "output_type": "stream",
     "text": [
      "predict cost:  0.019291189\n"
     ]
    }
   ],
   "source": [
    "pred_val, pred_cost = sess.run([hypo, cost], feed_dict = ({X: test_X, y : test_y}))\n",
    "print(\"predict cost: \", pred_cost)"
   ]
  },
  {
   "cell_type": "markdown",
   "metadata": {},
   "source": [
    "### Keras API"
   ]
  },
  {
   "cell_type": "code",
   "execution_count": 11,
   "metadata": {},
   "outputs": [],
   "source": [
    "from tensorflow import keras\n",
    "from tensorflow.keras import layers"
   ]
  },
  {
   "cell_type": "code",
   "execution_count": 12,
   "metadata": {},
   "outputs": [
    {
     "name": "stdout",
     "output_type": "stream",
     "text": [
      "WARNING:tensorflow:From C:\\Anaconda3\\lib\\site-packages\\tensorflow\\python\\ops\\init_ops.py:1251: calling VarianceScaling.__init__ (from tensorflow.python.ops.init_ops) with dtype is deprecated and will be removed in a future version.\n",
      "Instructions for updating:\n",
      "Call initializer instance with the dtype argument instead of passing it to the constructor\n",
      "Model: \"sequential\"\n",
      "_________________________________________________________________\n",
      "Layer (type)                 Output Shape              Param #   \n",
      "=================================================================\n",
      "dense (Dense)                (None, 4)                 48        \n",
      "_________________________________________________________________\n",
      "dense_1 (Dense)              (None, 1)                 5         \n",
      "=================================================================\n",
      "Total params: 53\n",
      "Trainable params: 53\n",
      "Non-trainable params: 0\n",
      "_________________________________________________________________\n"
     ]
    }
   ],
   "source": [
    "### 모델 생성 ###\n",
    "def build_model():\n",
    "    model = keras.Sequential([\n",
    "        layers.Dense(4, activation=tf.nn.relu, input_shape=[train_X.shape[1]]),\n",
    "        layers.Dense(1),\n",
    "    ])\n",
    "\n",
    "    optimizer = tf.keras.optimizers.RMSprop(0.001)\n",
    "    \n",
    "    model.compile(loss='mse', \n",
    "                  optimizer=optimizer,\n",
    "                  metrics=['mae', 'mse'])\n",
    "    \n",
    "    return model\n",
    "\n",
    "\n",
    "modelK = build_model()\n",
    "modelK.summary()"
   ]
  },
  {
   "cell_type": "code",
   "execution_count": 13,
   "metadata": {},
   "outputs": [],
   "source": [
    "### 모델 훈련 ###\n",
    "\n",
    "EPOCHS = 1000\n",
    "\n",
    "history = modelK.fit(train_X, train_y, \n",
    "                     epochs=EPOCHS, \n",
    "                     validation_split = 0.3, \n",
    "                     verbose=0)"
   ]
  },
  {
   "cell_type": "code",
   "execution_count": 14,
   "metadata": {},
   "outputs": [
    {
     "name": "stdout",
     "output_type": "stream",
     "text": [
      "Testing set Mean Abs Error:  0.0429409\n",
      "Testing set Mean Sqr Error:  0.0040779\n"
     ]
    }
   ],
   "source": [
    "## 모델 예측 ###\n",
    "\n",
    "test_predictions = modelK.predict(test_X)\n",
    "\n",
    "loss, mae, mse = modelK.evaluate(test_X, test_y, verbose=0)\n",
    "\n",
    "print(\"Testing set Mean Abs Error: {:10.7f}\".format(mae))\n",
    "print(\"Testing set Mean Sqr Error: {:10.7f}\".format(mse))"
   ]
  }
 ],
 "metadata": {
  "colab": {
   "collapsed_sections": [],
   "name": "multi_regression.ipynb",
   "provenance": [],
   "version": "0.3.2"
  },
  "kernelspec": {
   "display_name": "Python 3",
   "language": "python",
   "name": "python3"
  },
  "language_info": {
   "codemirror_mode": {
    "name": "ipython",
    "version": 3
   },
   "file_extension": ".py",
   "mimetype": "text/x-python",
   "name": "python",
   "nbconvert_exporter": "python",
   "pygments_lexer": "ipython3",
   "version": "3.7.3"
  }
 },
 "nbformat": 4,
 "nbformat_minor": 1
}
