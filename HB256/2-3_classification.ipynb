{
 "cells": [
  {
   "cell_type": "markdown",
   "metadata": {},
   "source": [
    "## Classification"
   ]
  },
  {
   "cell_type": "code",
   "execution_count": 1,
   "metadata": {
    "colab": {},
    "colab_type": "code",
    "id": "wsKBm-2cG2Uu"
   },
   "outputs": [],
   "source": [
    "import io\n",
    "import pandas as pd\n",
    "import numpy as np\n",
    "import tensorflow as tf\n",
    "import random\n",
    "from sklearn.preprocessing import normalize"
   ]
  },
  {
   "cell_type": "code",
   "execution_count": 2,
   "metadata": {
    "colab": {},
    "colab_type": "code",
    "id": "5XJvNdG4H-mh"
   },
   "outputs": [
    {
     "data": {
      "text/html": [
       "<div>\n",
       "<style scoped>\n",
       "    .dataframe tbody tr th:only-of-type {\n",
       "        vertical-align: middle;\n",
       "    }\n",
       "\n",
       "    .dataframe tbody tr th {\n",
       "        vertical-align: top;\n",
       "    }\n",
       "\n",
       "    .dataframe thead th {\n",
       "        text-align: right;\n",
       "    }\n",
       "</style>\n",
       "<table border=\"1\" class=\"dataframe\">\n",
       "  <thead>\n",
       "    <tr style=\"text-align: right;\">\n",
       "      <th></th>\n",
       "      <th>education</th>\n",
       "      <th>age</th>\n",
       "      <th>parity</th>\n",
       "      <th>induced</th>\n",
       "      <th>case</th>\n",
       "      <th>spontaneous</th>\n",
       "      <th>stratum</th>\n",
       "      <th>pooled_stratum</th>\n",
       "    </tr>\n",
       "  </thead>\n",
       "  <tbody>\n",
       "    <tr>\n",
       "      <th>0</th>\n",
       "      <td>0</td>\n",
       "      <td>26</td>\n",
       "      <td>6</td>\n",
       "      <td>1</td>\n",
       "      <td>1</td>\n",
       "      <td>2</td>\n",
       "      <td>1</td>\n",
       "      <td>3</td>\n",
       "    </tr>\n",
       "    <tr>\n",
       "      <th>1</th>\n",
       "      <td>0</td>\n",
       "      <td>42</td>\n",
       "      <td>1</td>\n",
       "      <td>1</td>\n",
       "      <td>1</td>\n",
       "      <td>0</td>\n",
       "      <td>2</td>\n",
       "      <td>1</td>\n",
       "    </tr>\n",
       "    <tr>\n",
       "      <th>2</th>\n",
       "      <td>0</td>\n",
       "      <td>39</td>\n",
       "      <td>6</td>\n",
       "      <td>2</td>\n",
       "      <td>1</td>\n",
       "      <td>0</td>\n",
       "      <td>3</td>\n",
       "      <td>4</td>\n",
       "    </tr>\n",
       "    <tr>\n",
       "      <th>3</th>\n",
       "      <td>0</td>\n",
       "      <td>34</td>\n",
       "      <td>4</td>\n",
       "      <td>2</td>\n",
       "      <td>1</td>\n",
       "      <td>0</td>\n",
       "      <td>4</td>\n",
       "      <td>2</td>\n",
       "    </tr>\n",
       "    <tr>\n",
       "      <th>4</th>\n",
       "      <td>1</td>\n",
       "      <td>35</td>\n",
       "      <td>3</td>\n",
       "      <td>1</td>\n",
       "      <td>1</td>\n",
       "      <td>1</td>\n",
       "      <td>5</td>\n",
       "      <td>32</td>\n",
       "    </tr>\n",
       "  </tbody>\n",
       "</table>\n",
       "</div>"
      ],
      "text/plain": [
       "   education  age  parity  induced  case  spontaneous  stratum  pooled_stratum\n",
       "0          0   26       6        1     1            2        1               3\n",
       "1          0   42       1        1     1            0        2               1\n",
       "2          0   39       6        2     1            0        3               4\n",
       "3          0   34       4        2     1            0        4               2\n",
       "4          1   35       3        1     1            1        5              32"
      ]
     },
     "execution_count": 2,
     "metadata": {},
     "output_type": "execute_result"
    }
   ],
   "source": [
    "# 데이터 - 자연유산 및 유도유산(낙태) 후 불임 여부\n",
    "\n",
    "infert = pd.read_csv('data/infert.csv')\n",
    "infert.head()\n",
    "\n",
    "# education : 교육받은 년수. 0 = 0-5, 1 = 6-11, 2 = 12+ yrs.\n",
    "# parity : 총 유산 횟수\n",
    "# induced : 유도유산 횟수 (2 = 2 or more)\n",
    "# spontaneous : 자연유산 횟수 (2 = 2 or more)\n",
    "# stratum : 사회 계층\n",
    "# case : 1 = 불임"
   ]
  },
  {
   "cell_type": "code",
   "execution_count": 3,
   "metadata": {
    "colab": {},
    "colab_type": "code",
    "id": "aRwPcVh7ewrA"
   },
   "outputs": [],
   "source": [
    "X_data = infert[[\"parity\", \"induced\", \"spontaneous\", \"stratum\", \"pooled_stratum\"]]\n",
    "y_data = infert[\"case\"]\n",
    "\n",
    "X_data = pd.DataFrame(normalize(X_data))"
   ]
  },
  {
   "cell_type": "code",
   "execution_count": 4,
   "metadata": {
    "colab": {},
    "colab_type": "code",
    "id": "QKpF3AB-fIFG"
   },
   "outputs": [
    {
     "name": "stdout",
     "output_type": "stream",
     "text": [
      "(198, 5) (50, 5)\n"
     ]
    }
   ],
   "source": [
    "# train / test 분리\n",
    "tf.set_random_seed(123)\n",
    "\n",
    "train_idx = random.sample(list(range(len(infert))), int(len(infert) * 0.8 ))\n",
    "\n",
    "train_X = X_data.iloc[train_idx]\n",
    "train_y = y_data[train_idx]\n",
    "\n",
    "test_X = X_data.drop(train_idx)\n",
    "test_y = y_data.drop(train_idx)\n",
    "\n",
    "print(train_X.shape, test_X.shape)"
   ]
  },
  {
   "cell_type": "code",
   "execution_count": 5,
   "metadata": {
    "colab": {},
    "colab_type": "code",
    "id": "zXUNSTd1gGev"
   },
   "outputs": [],
   "source": [
    "# 네트워크 생성\n",
    "\n",
    "X = tf.placeholder(shape = (None, 5), dtype = tf.float32)\n",
    "y = tf.placeholder(shape = (None), dtype = tf.float32)\n",
    "\n",
    "W1 = tf.Variable(initial_value= tf.random_normal([5, 1]), dtype = tf.float32)\n",
    "b1 = tf.Variable(initial_value= tf.random_normal([1]), dtype = tf.float32)\n",
    "L1 = tf.nn.relu(tf.add(tf.matmul(X, W1), b1))\n",
    "\n",
    "W2 = tf.Variable(initial_value= tf.random_normal([1, 1]), dtype = tf.float32)\n",
    "b2 = tf.Variable(initial_value= tf.random_normal([1]), dtype = tf.float32)\n",
    "hypo = tf.add(tf.matmul(L1, W2), b2)\n",
    "\n",
    "cost = tf.reduce_mean(tf.nn.softmax_cross_entropy_with_logits_v2(labels = y, logits = hypo))\n",
    "\n",
    "optimizer = tf.train.GradientDescentOptimizer(learning_rate= 0.0001)\n",
    "\n",
    "train = optimizer.minimize(cost)"
   ]
  },
  {
   "cell_type": "code",
   "execution_count": 6,
   "metadata": {
    "colab": {},
    "colab_type": "code",
    "id": "i1UQG8JLmbwO"
   },
   "outputs": [],
   "source": [
    "sess = tf.Session()\n",
    "sess.run(tf.global_variables_initializer())"
   ]
  },
  {
   "cell_type": "code",
   "execution_count": 7,
   "metadata": {
    "colab": {
     "base_uri": "https://localhost:8080/",
     "height": 210
    },
    "colab_type": "code",
    "executionInfo": {
     "elapsed": 568,
     "status": "ok",
     "timestamp": 1549880779478,
     "user": {
      "displayName": "BONGGEUN CHOI",
      "photoUrl": "",
      "userId": "13192430529567238042"
     },
     "user_tz": -540
    },
    "id": "goJW7nSamnq_",
    "outputId": "e9630fbb-b05c-496c-c276-c25d4e04b46d"
   },
   "outputs": [
    {
     "name": "stdout",
     "output_type": "stream",
     "text": [
      "step:  0 \t cost:  338.4491\n",
      "step:  100 \t cost:  338.4491\n",
      "step:  200 \t cost:  338.4491\n",
      "step:  300 \t cost:  338.4491\n",
      "step:  400 \t cost:  338.4491\n",
      "step:  500 \t cost:  338.4491\n",
      "step:  600 \t cost:  338.4491\n",
      "step:  700 \t cost:  338.4491\n",
      "step:  800 \t cost:  338.4491\n",
      "step:  900 \t cost:  338.4491\n",
      "train finished!!\n"
     ]
    }
   ],
   "source": [
    "for i in range(1000):\n",
    "    _, cost_val = sess.run([train, cost], feed_dict = {X: train_X, y: train_y})\n",
    "    if i % 100 ==0:\n",
    "        print(\"step: \", i, \"\\t\", \"cost: \", cost_val)\n",
    "        \n",
    "print(\"train finished!!\")"
   ]
  },
  {
   "cell_type": "code",
   "execution_count": 8,
   "metadata": {
    "colab": {
     "base_uri": "https://localhost:8080/",
     "height": 34
    },
    "colab_type": "code",
    "executionInfo": {
     "elapsed": 637,
     "status": "ok",
     "timestamp": 1549880780803,
     "user": {
      "displayName": "BONGGEUN CHOI",
      "photoUrl": "",
      "userId": "13192430529567238042"
     },
     "user_tz": -540
    },
    "id": "aw8CVbxLnH2K",
    "outputId": "d3df7e0a-b106-4a10-928d-0bbfe5d56804"
   },
   "outputs": [
    {
     "name": "stdout",
     "output_type": "stream",
     "text": [
      "accuracy:  0.38\n"
     ]
    }
   ],
   "source": [
    "predict = tf.cast(hypo > 0.5, dtype = tf.float32)\n",
    "\n",
    "accuracy = tf.reduce_mean(tf.cast(tf.equal(predict, y), dtype = tf.float32 ))\n",
    "\n",
    "print(\"accuracy: \", sess.run(accuracy, feed_dict = {X: test_X, y: test_y}))"
   ]
  }
 ],
 "metadata": {
  "colab": {
   "collapsed_sections": [],
   "name": "logistic_regression.ipynb",
   "provenance": [],
   "version": "0.3.2"
  },
  "kernelspec": {
   "display_name": "Python 3",
   "language": "python",
   "name": "python3"
  },
  "language_info": {
   "codemirror_mode": {
    "name": "ipython",
    "version": 3
   },
   "file_extension": ".py",
   "mimetype": "text/x-python",
   "name": "python",
   "nbconvert_exporter": "python",
   "pygments_lexer": "ipython3",
   "version": "3.7.3"
  }
 },
 "nbformat": 4,
 "nbformat_minor": 1
}
