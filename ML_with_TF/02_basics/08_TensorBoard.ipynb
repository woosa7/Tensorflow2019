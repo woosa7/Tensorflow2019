{
 "cells": [
  {
   "cell_type": "markdown",
   "metadata": {},
   "source": [
    "# Ch `02`: Concept `08`"
   ]
  },
  {
   "cell_type": "markdown",
   "metadata": {},
   "source": [
    "## Using TensorBoard"
   ]
  },
  {
   "cell_type": "markdown",
   "metadata": {},
   "source": [
    "TensorBoard is a great way to visualize what's happening behind the code. \n",
    "\n",
    "In this example, we'll loop through some numbers to improve our guess of the average value. Then we can visualize the results on TensorBoard. \n",
    "\n",
    "Let's just set ourselves up with some data to work with:"
   ]
  },
  {
   "cell_type": "code",
   "execution_count": 1,
   "metadata": {},
   "outputs": [
    {
     "data": {
      "text/plain": [
       "100"
      ]
     },
     "execution_count": 1,
     "metadata": {},
     "output_type": "execute_result"
    }
   ],
   "source": [
    "import tensorflow as tf\n",
    "import numpy as np\n",
    "\n",
    "raw_data = np.random.normal(10, 1, 100)   # 평균 10, 표준편차 1\n",
    "len(raw_data)"
   ]
  },
  {
   "cell_type": "markdown",
   "metadata": {},
   "source": [
    "The moving average is defined as follows:"
   ]
  },
  {
   "cell_type": "code",
   "execution_count": 2,
   "metadata": {},
   "outputs": [],
   "source": [
    "alpha = tf.constant(0.05)\n",
    "curr_value = tf.placeholder(tf.float32)   # placeholder는 Variable과 유사하지만 값이 session으로부터 채워진다.\n",
    "prev_avg = tf.Variable(0.)\n",
    "\n",
    "update_avg = alpha * curr_value + (1 - alpha) * prev_avg"
   ]
  },
  {
   "cell_type": "markdown",
   "metadata": {},
   "source": [
    "Here's what we care to visualize:"
   ]
  },
  {
   "cell_type": "code",
   "execution_count": 3,
   "metadata": {},
   "outputs": [],
   "source": [
    "avg_hist = tf.summary.scalar(\"running_average\", update_avg)\n",
    "value_hist = tf.summary.scalar(\"incoming_values\", curr_value)\n",
    "\n",
    "merged = tf.summary.merge_all()           # summary를 통합\n",
    "writer = tf.summary.FileWriter(\"./logs\")  # 로그 폴더 지정"
   ]
  },
  {
   "cell_type": "markdown",
   "metadata": {},
   "source": [
    "Time to compute the moving averages. We'll also run the `merged` op to track how the values change:"
   ]
  },
  {
   "cell_type": "code",
   "execution_count": 4,
   "metadata": {},
   "outputs": [
    {
     "name": "stdout",
     "output_type": "stream",
     "text": [
      "10.792068386339894 0.5396034\n",
      "8.930848099560443 0.9591657\n",
      "9.43065739075733 1.3827403\n",
      "11.341960315426732 1.8807013\n",
      "9.634588029997264 2.2683957\n",
      "10.26432003237804 2.668192\n",
      "9.29445769974521 2.999505\n",
      "10.343375263166628 3.3666985\n",
      "9.770455978450864 3.6868863\n",
      "11.120565346014958 4.0585704\n",
      "10.714127391645377 4.3913484\n",
      "10.165748067508613 4.6800685\n",
      "10.338987842289807 4.9630146\n",
      "8.158364892712363 5.122782\n",
      "10.679188033656317 5.4006023\n",
      "7.872380320033464 5.5241914\n",
      "9.826495640989995 5.7393064\n",
      "10.248311901568039 5.9647565\n",
      "7.271129277700303 6.030075\n",
      "8.520575475822264 6.1546\n",
      "11.217962113540832 6.4077682\n",
      "9.448452295617678 6.5598025\n",
      "10.367438075653572 6.7501845\n",
      "10.64320644285624 6.9448357\n",
      "9.841122300393717 7.08965\n",
      "10.490465789919304 7.2596908\n",
      "11.838953395226731 7.4886537\n",
      "8.69877578385065 7.54916\n",
      "9.598588235801216 7.6516314\n",
      "7.3585246670290285 7.636976\n",
      "10.342999846135609 7.772277\n",
      "9.965303432800129 7.8819284\n",
      "11.401193300044591 8.057892\n",
      "8.827023903052751 8.096349\n",
      "9.473770894803884 8.165219\n",
      "8.446893025942252 8.179302\n",
      "9.806498969591985 8.260662\n",
      "10.269122481263183 8.361085\n",
      "9.459173421755123 8.415989\n",
      "9.694258801039295 8.479902\n",
      "9.68011354196778 8.539913\n",
      "10.2364745821937 8.624741\n",
      "9.959219793134034 8.691464\n",
      "8.97332366135579 8.705558\n",
      "8.448057647271437 8.692682\n",
      "9.962997051793213 8.756198\n",
      "8.946650321726011 8.76572\n",
      "10.05075584738672 8.829972\n",
      "10.449201602236704 8.9109335\n",
      "10.499896514479293 8.990381\n",
      "11.052243154398495 9.093474\n",
      "8.320036742869974 9.054803\n",
      "9.749490184403797 9.089537\n",
      "9.763143404864708 9.123217\n",
      "10.920302847940148 9.213071\n",
      "10.275024203867037 9.266169\n",
      "9.981810619524987 9.30195\n",
      "10.364584696714244 9.3550825\n",
      "11.227553557717417 9.448706\n",
      "11.186891051509226 9.535615\n",
      "9.967041153132985 9.557186\n",
      "10.791817573555145 9.618917\n",
      "10.303526050365944 9.653149\n",
      "10.511999578707359 9.696091\n",
      "11.535581988068804 9.788065\n",
      "10.06706584319221 9.802014\n",
      "10.70282455178958 9.8470545\n",
      "9.155946033512468 9.812499\n",
      "8.71397702324875 9.757572\n",
      "9.775137925150458 9.7584505\n",
      "10.117404298803605 9.776398\n",
      "10.472754394809877 9.811215\n",
      "10.5407246836439 9.847692\n",
      "9.256181825045203 9.818115\n",
      "10.611703631790302 9.857795\n",
      "8.818606399357462 9.805836\n",
      "11.264262817835153 9.878757\n",
      "9.039074065862927 9.836773\n",
      "11.615403635074054 9.925705\n",
      "8.929090858172538 9.875874\n",
      "9.28318816677734 9.846239\n",
      "9.052771217942775 9.806565\n",
      "10.14530584148819 9.823502\n",
      "9.074951092370704 9.786074\n",
      "10.049476938745475 9.799244\n",
      "10.755566929022915 9.847059\n",
      "9.729751893091645 9.841193\n",
      "9.29456895865654 9.813862\n",
      "9.307247783567611 9.788531\n",
      "10.428825325037494 9.820546\n",
      "10.53127843903509 9.856082\n",
      "10.261385165937382 9.876347\n",
      "10.00015393429265 9.882537\n",
      "8.301698914868235 9.803494\n",
      "9.806128818118545 9.803626\n",
      "10.115901236872546 9.819241\n",
      "9.181745834824293 9.787366\n",
      "8.384625111544318 9.717229\n",
      "11.390339083183513 9.800884\n",
      "9.320141440202216 9.776847\n"
     ]
    }
   ],
   "source": [
    "init = tf.global_variables_initializer()\n",
    "\n",
    "with tf.Session() as sess:\n",
    "    sess.run(init)\n",
    "    for i in range(len(raw_data)):\n",
    "        summary_str, curr_avg = sess.run([merged, update_avg], feed_dict={curr_value: raw_data[i]})\n",
    "        sess.run(tf.assign(prev_avg, curr_avg))\n",
    "        print(raw_data[i], curr_avg)\n",
    "        writer.add_summary(summary_str, i)"
   ]
  },
  {
   "cell_type": "markdown",
   "metadata": {},
   "source": [
    "Check out the visualization by running TensorBoard from the terminal:\n",
    "\n",
    "    $ tensorboard --logdir=path/to/logs"
   ]
  },
  {
   "cell_type": "code",
   "execution_count": 5,
   "metadata": {},
   "outputs": [],
   "source": [
    "#made the logs be written successfully\n",
    "writer.close()"
   ]
  }
 ],
 "metadata": {
  "kernelspec": {
   "display_name": "Python 3",
   "language": "python",
   "name": "python3"
  },
  "language_info": {
   "codemirror_mode": {
    "name": "ipython",
    "version": 3
   },
   "file_extension": ".py",
   "mimetype": "text/x-python",
   "name": "python",
   "nbconvert_exporter": "python",
   "pygments_lexer": "ipython3",
   "version": "3.7.3"
  }
 },
 "nbformat": 4,
 "nbformat_minor": 1
}
