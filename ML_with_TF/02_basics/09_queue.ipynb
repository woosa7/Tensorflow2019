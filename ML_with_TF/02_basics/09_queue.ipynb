{
 "cells": [
  {
   "cell_type": "markdown",
   "metadata": {},
   "source": [
    "# Ch `02`: Concept `09`"
   ]
  },
  {
   "cell_type": "markdown",
   "metadata": {},
   "source": [
    "## Using Queues"
   ]
  },
  {
   "cell_type": "markdown",
   "metadata": {},
   "source": [
    "If you have a lot of training data, you probably don't want to load it all into memory at once. The QueueRunner in TensorFlow is a tool to efficiently employ a queue data-structure in a multi-threaded way."
   ]
  },
  {
   "cell_type": "code",
   "execution_count": 2,
   "metadata": {},
   "outputs": [],
   "source": [
    "import tensorflow as tf\n",
    "import numpy as np"
   ]
  },
  {
   "cell_type": "markdown",
   "metadata": {},
   "source": [
    "We will be running multiple threads, so let's figure out the number of CPUs:"
   ]
  },
  {
   "cell_type": "code",
   "execution_count": 3,
   "metadata": {},
   "outputs": [],
   "source": [
    "import multiprocessing\n",
    "NUM_THREADS = multiprocessing.cpu_count()"
   ]
  },
  {
   "cell_type": "markdown",
   "metadata": {},
   "source": [
    "Generate some fake data to work with:"
   ]
  },
  {
   "cell_type": "code",
   "execution_count": 7,
   "metadata": {},
   "outputs": [
    {
     "name": "stdout",
     "output_type": "stream",
     "text": [
      "(100, 3)\n"
     ]
    }
   ],
   "source": [
    "xs = np.random.randn(100, 3)\n",
    "print(xs.shape)\n",
    "\n",
    "ys = np.random.randint(0, 2, size=100)"
   ]
  },
  {
   "cell_type": "markdown",
   "metadata": {},
   "source": [
    "Here's a couple concrete examples of our data:"
   ]
  },
  {
   "cell_type": "code",
   "execution_count": 8,
   "metadata": {},
   "outputs": [
    {
     "name": "stdout",
     "output_type": "stream",
     "text": [
      "Input [ 0.08234752 -0.08884229  0.10660199]  --->  Output 0\n",
      "Input [ 1.6462786  -0.46028431 -0.67948008]  --->  Output 0\n",
      "Input [0.98023512 0.39208894 0.5936347 ]  --->  Output 0\n",
      "Input [-0.25953881  0.30116748 -0.15760827]  --->  Output 1\n",
      "Input [ 0.02039786 -1.42820193  1.54763609]  --->  Output 0\n"
     ]
    }
   ],
   "source": [
    "xs_and_ys = zip(xs, ys)\n",
    "for _ in range(5):\n",
    "    x, y = next(xs_and_ys)\n",
    "    print('Input {}  --->  Output {}'.format(x, y))"
   ]
  },
  {
   "cell_type": "markdown",
   "metadata": {},
   "source": [
    "Define a queue:"
   ]
  },
  {
   "cell_type": "code",
   "execution_count": 9,
   "metadata": {},
   "outputs": [],
   "source": [
    "queue = tf.FIFOQueue(capacity=1000, dtypes=[tf.float32, tf.int32])"
   ]
  },
  {
   "cell_type": "markdown",
   "metadata": {},
   "source": [
    "Set up the enqueue and dequeue ops:"
   ]
  },
  {
   "cell_type": "code",
   "execution_count": 10,
   "metadata": {},
   "outputs": [],
   "source": [
    "enqueue_op = queue.enqueue_many([xs, ys])\n",
    "x_op, y_op = queue.dequeue()"
   ]
  },
  {
   "cell_type": "markdown",
   "metadata": {},
   "source": [
    "Define a QueueRunner:"
   ]
  },
  {
   "cell_type": "code",
   "execution_count": 11,
   "metadata": {},
   "outputs": [
    {
     "name": "stdout",
     "output_type": "stream",
     "text": [
      "WARNING:tensorflow:From <ipython-input-11-c1e92ffbd486>:1: QueueRunner.__init__ (from tensorflow.python.training.queue_runner_impl) is deprecated and will be removed in a future version.\n",
      "Instructions for updating:\n",
      "To construct input pipelines, use the `tf.data` module.\n"
     ]
    }
   ],
   "source": [
    "qr = tf.train.QueueRunner(queue, [enqueue_op] * 4)"
   ]
  },
  {
   "cell_type": "markdown",
   "metadata": {},
   "source": [
    "Now that all variables and ops have been defined, let's get started with a session:"
   ]
  },
  {
   "cell_type": "code",
   "execution_count": 12,
   "metadata": {},
   "outputs": [],
   "source": [
    "sess = tf.InteractiveSession()"
   ]
  },
  {
   "cell_type": "markdown",
   "metadata": {},
   "source": [
    "Create threads for the QueueRunner:"
   ]
  },
  {
   "cell_type": "code",
   "execution_count": 13,
   "metadata": {},
   "outputs": [],
   "source": [
    "coord = tf.train.Coordinator()\n",
    "enqueue_threads = qr.create_threads(sess, coord=coord, start=True)"
   ]
  },
  {
   "cell_type": "markdown",
   "metadata": {},
   "source": [
    "Test out dequeueing:"
   ]
  },
  {
   "cell_type": "code",
   "execution_count": 14,
   "metadata": {},
   "outputs": [
    {
     "name": "stdout",
     "output_type": "stream",
     "text": [
      "[ 0.08234752 -0.0888423   0.10660198] 0\n",
      "[ 1.6462786  -0.46028432 -0.6794801 ] 0\n",
      "[0.9802351  0.39208895 0.5936347 ] 0\n",
      "[-0.2595388   0.3011675  -0.15760827] 1\n",
      "[ 0.02039786 -1.4282019   1.547636  ] 0\n",
      "[-1.4833885   1.0614552   0.22581042] 1\n",
      "[-0.34202048 -0.27590343  0.56887305] 0\n",
      "[ 0.66067773 -0.39466104  1.2408216 ] 1\n",
      "[ 2.172815  -1.0601367  0.1477568] 1\n",
      "[-0.29749846 -0.670709   -0.50491506] 0\n",
      "[-0.20297597 -1.2790078   0.4204365 ] 1\n",
      "[-1.9370341   1.0771289   0.21904531] 1\n",
      "[-0.05158934 -0.3923433  -1.3717874 ] 0\n",
      "[-0.1322114 -0.1445082  0.4646972] 1\n",
      "[ 1.0406339 -1.1494099 -0.9475374] 0\n",
      "[0.43618202 0.2844854  1.8792194 ] 1\n",
      "[-0.18623014 -0.68094003  0.7782209 ] 1\n",
      "[-0.98051006  1.0867769   0.53598917] 1\n",
      "[ 1.8654356  -0.84322643  0.50363576] 1\n",
      "[-1.4713945   0.21914394 -0.9167111 ] 1\n",
      "[ 2.327208   -0.16346677  1.175957  ] 0\n",
      "[-1.0443866   0.59765595  1.6381918 ] 0\n",
      "[ 2.027856   0.769454  -1.7665235] 0\n",
      "[-0.36451837  0.9780361  -0.4567181 ] 0\n",
      "[ 0.6334522  -0.17396022  0.42654067] 1\n",
      "[0.13931692 1.1457726  1.5825415 ] 1\n",
      "[-1.4773321  1.1071018 -0.1243774] 1\n",
      "[ 0.3679864  -0.24298339 -0.5688187 ] 0\n",
      "[1.2527549  0.13624537 1.8410777 ] 1\n",
      "[-0.14077616  0.02804882 -0.8355045 ] 0\n",
      "[-0.24989389  1.5294005  -1.2892866 ] 1\n",
      "[ 0.42083043 -2.9168055   1.9180651 ] 0\n",
      "[ 0.07752251  0.5957791  -0.20408143] 0\n",
      "[ 0.28844577  1.2905738  -1.1169538 ] 1\n",
      "[ 0.4577518  -0.52537245  0.33297294] 1\n",
      "[ 0.08784622 -0.09279684 -0.30188513] 1\n",
      "[-1.239791   -1.9460307  -0.47806892] 1\n",
      "[-0.08008854  1.1472669   0.05182846] 0\n",
      "[-1.1511096  0.5006015  0.4347627] 1\n",
      "[ 0.67942834  0.43741095 -0.5332895 ] 1\n",
      "[ 0.21644342  0.54615545 -0.8544194 ] 1\n",
      "[-0.53201306  0.81294525  0.23772073] 1\n",
      "[ 2.0189238  -0.07074358  0.39533025] 0\n",
      "[ 0.87337816 -0.70453525 -0.27626544] 0\n",
      "[ 0.22714685  0.10969033 -0.3092624 ] 0\n",
      "[-0.6544833 -0.7219173 -1.0135181] 1\n",
      "[-1.6112221   0.23898469 -0.9782075 ] 1\n",
      "[-0.18845655 -1.0834272  -0.543372  ] 1\n",
      "[1.9687191 0.6447192 0.8903387] 1\n",
      "[ 0.351461    1.1320423  -0.35080603] 1\n",
      "[ 1.7434504  -1.5329757  -0.30454856] 1\n",
      "[-0.1703821  1.0819474 -0.8492488] 0\n",
      "[-0.72687954  0.20819233  0.36280218] 1\n",
      "[-1.0204883  -0.15739302 -1.1433738 ] 1\n",
      "[-0.56896913 -0.8864142  -0.6694065 ] 1\n",
      "[ 0.9756598  -1.0276552  -0.00302512] 1\n",
      "[ 1.1518973  -0.13004965 -0.64278996] 0\n",
      "[-0.03722556 -0.27106902 -0.30360654] 0\n",
      "[-0.30255735  0.36435005  1.4114212 ] 0\n",
      "[-1.5684308   0.06892171  0.94080806] 1\n",
      "[-0.73574036  0.78983504  0.29916313] 1\n",
      "[ 0.81403965  1.749539   -1.7078251 ] 0\n",
      "[ 1.7097028  -0.25654137 -1.4087894 ] 0\n",
      "[-2.026263   -0.38629603 -0.26802045] 0\n",
      "[-0.65760106  0.8548845   0.5528261 ] 1\n",
      "[-0.4785061  -0.42668173  1.1185424 ] 0\n",
      "[2.583194   1.9252744  0.01644172] 1\n",
      "[-0.3642934  0.2570089  1.8069863] 1\n",
      "[-1.2048262   0.38492697 -0.38714954] 0\n",
      "[-0.5528895  -1.2651763   0.01849167] 0\n",
      "[ 1.0308311  -0.76771414 -0.7606783 ] 0\n",
      "[ 2.7452583 -1.324467  -1.8253657] 0\n",
      "[ 0.4963294  -0.7479282   0.72711587] 1\n",
      "[-0.40141362  1.032219    0.114896  ] 0\n",
      "[-1.1114529  0.5693679 -0.9351798] 1\n",
      "[0.5518486  0.18787315 0.95862746] 1\n",
      "[0.08007372 1.909597   0.06104605] 1\n",
      "[1.4015251  0.05477013 0.24109407] 0\n",
      "[-0.3199341  -0.7863166  -0.15304025] 0\n",
      "[-0.16748743  0.64590585 -0.87076277] 0\n",
      "[ 0.8734632  -0.18902257 -1.5808802 ] 1\n",
      "[ 0.94225174 -0.81499463  1.7154408 ] 0\n",
      "[ 0.4640941  -0.41816977  0.8759621 ] 0\n",
      "[ 0.1931837   1.1099828  -0.34580484] 1\n",
      "[ 1.2258667   0.76404274 -0.23826152] 0\n",
      "[ 2.2397113  -0.34474996  0.11447559] 0\n",
      "[ 2.7941804  2.412137  -0.4188624] 0\n",
      "[-1.4952439   0.10195925 -0.41852003] 1\n",
      "[ 0.37450618  0.20868568 -1.7306749 ] 1\n",
      "[-0.48197293  0.928888    1.2934453 ] 0\n",
      "[ 1.8261206   1.0348204  -0.61287665] 1\n",
      "[-0.22071546 -1.8920113  -0.8476204 ] 0\n",
      "[ 1.3287914  -0.11976131 -2.4323502 ] 1\n",
      "[-1.1547549 -0.9901096  1.650974 ] 1\n",
      "[-1.803535  -0.0619496 -1.2270613] 0\n",
      "[ 0.12000782 -1.7478564  -0.26083022] 0\n",
      "[-1.7058024  -0.21218798  0.31838706] 1\n",
      "[ 0.5447389  -1.6696103   0.46268737] 0\n",
      "[ 0.02446079  0.56876975 -0.01001479] 1\n",
      "[0.3765459 0.5701773 1.4552993] 0\n"
     ]
    }
   ],
   "source": [
    "for _ in range(100):\n",
    "    if coord.should_stop():\n",
    "        break\n",
    "    x, y = sess.run([x_op, y_op])\n",
    "    print(x, y)\n",
    "coord.request_stop()\n",
    "coord.join(enqueue_threads)"
   ]
  },
  {
   "cell_type": "code",
   "execution_count": null,
   "metadata": {},
   "outputs": [],
   "source": []
  }
 ],
 "metadata": {
  "kernelspec": {
   "display_name": "Python 3",
   "language": "python",
   "name": "python3"
  },
  "language_info": {
   "codemirror_mode": {
    "name": "ipython",
    "version": 3
   },
   "file_extension": ".py",
   "mimetype": "text/x-python",
   "name": "python",
   "nbconvert_exporter": "python",
   "pygments_lexer": "ipython3",
   "version": "3.7.3"
  }
 },
 "nbformat": 4,
 "nbformat_minor": 2
}
