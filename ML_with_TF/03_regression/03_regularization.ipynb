{
 "cells": [
  {
   "cell_type": "markdown",
   "metadata": {},
   "source": [
    "# Ch `03`: Concept `03`"
   ]
  },
  {
   "cell_type": "markdown",
   "metadata": {},
   "source": [
    "## Regularization"
   ]
  },
  {
   "cell_type": "markdown",
   "metadata": {},
   "source": [
    "Import the relevant libraries and initialize the hyper-parameters"
   ]
  },
  {
   "cell_type": "code",
   "execution_count": 1,
   "metadata": {},
   "outputs": [],
   "source": [
    "import tensorflow as tf\n",
    "import numpy as np\n",
    "import matplotlib.pyplot as plt\n",
    "\n",
    "np.random.seed(100)\n",
    "\n",
    "learning_rate = 0.001\n",
    "training_epochs = 1000\n",
    "reg_lambda = 0."
   ]
  },
  {
   "cell_type": "markdown",
   "metadata": {},
   "source": [
    "create a helper method to split the dataset"
   ]
  },
  {
   "cell_type": "code",
   "execution_count": 2,
   "metadata": {},
   "outputs": [],
   "source": [
    "def split_dataset(x_dataset, y_dataset, ratio):\n",
    "    arr = np.arange(x_dataset.size)\n",
    "    np.random.shuffle(arr)\n",
    "    num_train = int(ratio * x_dataset.size)\n",
    "    x_train = x_dataset[arr[0:num_train]]\n",
    "    y_train = y_dataset[arr[0:num_train]]\n",
    "    x_test = x_dataset[arr[num_train:x_dataset.size]]\n",
    "    y_test = y_dataset[arr[num_train:x_dataset.size]]\n",
    "    return x_train, x_test, y_train, y_test"
   ]
  },
  {
   "cell_type": "markdown",
   "metadata": {},
   "source": [
    "Create a fake dataset. y = x^2"
   ]
  },
  {
   "cell_type": "code",
   "execution_count": 3,
   "metadata": {},
   "outputs": [
    {
     "name": "stdout",
     "output_type": "stream",
     "text": [
      "[0.0, 0.0, 1, 0.0, 0.0, 0.0, 0.0, 0.0, 0.0]\n",
      "[ 0.47507036  1.0628082   1.26673515  0.80673016  1.13931002  0.96244849\n",
      "  0.83862204  0.41615668  0.64603871  0.74592192  0.49936366  0.73548732\n",
      "  0.39884251  0.78877415  0.71615151  0.45444342  0.29863038  0.73999827\n",
      "  0.27351799  0.04415966  0.84086234  0.79397834  0.23307823  0.03387269\n",
      "  0.32073669  0.52609966  0.44468527  0.61507841  0.0907828   0.18821592\n",
      "  0.22190813 -0.29328547 -0.10191845  0.35604731  0.32318465 -0.05097651\n",
      "  0.43126685 -0.44341604 -0.35294563 -0.32473495 -0.12649877 -0.17096473\n",
      "  0.02515121 -0.16663848  0.4022701  -0.51166422 -0.28999354  0.10980309\n",
      " -0.48315528  0.44131619 -0.35630325 -0.16400558 -0.27946309 -0.24338022\n",
      "  0.0409235   0.16468856 -0.24142507  0.39779776  0.00560341 -0.23008647\n",
      " -0.21954411  0.05956577  0.13512239  0.07844473 -0.40485125 -0.21521174\n",
      "  0.29502278  0.34584881  0.44775606 -0.27446894 -0.38084338  0.29848219\n",
      "  0.10707843  0.01861977  0.85535727  0.10016676  0.51173941 -0.08345573\n",
      "  0.50566879  0.02381091  0.58669158  0.6110257  -0.0389278   0.72950672\n",
      "  0.71941348  0.64280513  0.57638163  0.58240612  0.43129052  0.2769364\n",
      "  0.15763589  0.81363665  1.3001417   0.65919713  1.35776366  0.84581901\n",
      "  0.85965393  0.92201168  0.90449985  0.25385454]\n"
     ]
    }
   ],
   "source": [
    "x_dataset = np.linspace(-1, 1, 100)\n",
    "\n",
    "num_coeffs = 9\n",
    "y_dataset_params = [0.] * num_coeffs\n",
    "y_dataset_params[2] = 1\n",
    "\n",
    "print(y_dataset_params)\n",
    "\n",
    "y_dataset = 0\n",
    "for i in range(num_coeffs):\n",
    "    y_dataset += y_dataset_params[i] * np.power(x_dataset, i)\n",
    "    \n",
    "y_dataset += np.random.randn(*x_dataset.shape) * 0.3\n",
    "print(y_dataset)"
   ]
  },
  {
   "cell_type": "markdown",
   "metadata": {},
   "source": [
    "Split the dataset into 70% training and testing 30%"
   ]
  },
  {
   "cell_type": "code",
   "execution_count": 4,
   "metadata": {},
   "outputs": [],
   "source": [
    "(x_train, x_test, y_train, y_test) = split_dataset(x_dataset, y_dataset, 0.7)"
   ]
  },
  {
   "cell_type": "markdown",
   "metadata": {},
   "source": [
    "Set up the input/output placeholders"
   ]
  },
  {
   "cell_type": "code",
   "execution_count": 5,
   "metadata": {},
   "outputs": [],
   "source": [
    "X = tf.placeholder(\"float\")\n",
    "Y = tf.placeholder(\"float\")"
   ]
  },
  {
   "cell_type": "markdown",
   "metadata": {},
   "source": [
    "Define our model"
   ]
  },
  {
   "cell_type": "code",
   "execution_count": 6,
   "metadata": {},
   "outputs": [],
   "source": [
    "def model(X, w):\n",
    "    terms = []\n",
    "    for i in range(num_coeffs):\n",
    "        term = tf.multiply(w[i], tf.pow(X, i))\n",
    "        terms.append(term)\n",
    "    return tf.add_n(terms)"
   ]
  },
  {
   "cell_type": "markdown",
   "metadata": {},
   "source": [
    "Define the regularized cost function"
   ]
  },
  {
   "cell_type": "code",
   "execution_count": 7,
   "metadata": {},
   "outputs": [
    {
     "name": "stdout",
     "output_type": "stream",
     "text": [
      "WARNING:tensorflow:From <ipython-input-7-5f7fe3f306e3>:6: div (from tensorflow.python.ops.math_ops) is deprecated and will be removed in a future version.\n",
      "Instructions for updating:\n",
      "Deprecated in favor of operator or tf.math.divide.\n"
     ]
    }
   ],
   "source": [
    "w = tf.Variable([0.] * num_coeffs, name=\"parameters\")\n",
    "y_model = model(X, w)\n",
    "\n",
    "cost = tf.div(tf.add(tf.reduce_sum(tf.square(Y-y_model)),                    # loss\n",
    "                     tf.multiply(reg_lambda, tf.reduce_sum(tf.square(w)))),  # regulation\n",
    "              2*x_train.size)\n",
    "\n",
    "train_op = tf.train.GradientDescentOptimizer(learning_rate).minimize(cost)"
   ]
  },
  {
   "cell_type": "markdown",
   "metadata": {},
   "source": [
    "Set up the session"
   ]
  },
  {
   "cell_type": "code",
   "execution_count": 8,
   "metadata": {},
   "outputs": [],
   "source": [
    "sess = tf.Session()\n",
    "init = tf.global_variables_initializer()\n",
    "sess.run(init)"
   ]
  },
  {
   "cell_type": "markdown",
   "metadata": {},
   "source": [
    "Try out various regularization parameters "
   ]
  },
  {
   "cell_type": "code",
   "execution_count": 9,
   "metadata": {},
   "outputs": [
    {
     "name": "stdout",
     "output_type": "stream",
     "text": [
      "reg lambda : 0.00 --- final cost : 0.032031\n",
      "reg lambda : 0.02 --- final cost : 0.028902\n",
      "reg lambda : 0.04 --- final cost : 0.027129\n",
      "reg lambda : 0.06 --- final cost : 0.025800\n",
      "reg lambda : 0.08 --- final cost : 0.024813\n",
      "reg lambda : 0.10 --- final cost : 0.024077\n",
      "reg lambda : 0.12 --- final cost : 0.023520\n",
      "reg lambda : 0.14 --- final cost : 0.023092\n",
      "reg lambda : 0.16 --- final cost : 0.022755\n",
      "reg lambda : 0.18 --- final cost : 0.022486\n",
      "reg lambda : 0.20 --- final cost : 0.022267\n",
      "reg lambda : 0.22 --- final cost : 0.022085\n",
      "reg lambda : 0.24 --- final cost : 0.021932\n",
      "reg lambda : 0.26 --- final cost : 0.021801\n",
      "reg lambda : 0.28 --- final cost : 0.021688\n",
      "reg lambda : 0.30 --- final cost : 0.021588\n",
      "reg lambda : 0.32 --- final cost : 0.021500\n",
      "reg lambda : 0.34 --- final cost : 0.021420\n",
      "reg lambda : 0.36 --- final cost : 0.021348\n",
      "reg lambda : 0.38 --- final cost : 0.021282\n",
      "reg lambda : 0.40 --- final cost : 0.021222\n",
      "reg lambda : 0.42 --- final cost : 0.021165\n",
      "reg lambda : 0.44 --- final cost : 0.021113\n",
      "reg lambda : 0.46 --- final cost : 0.021065\n",
      "reg lambda : 0.48 --- final cost : 0.021019\n",
      "reg lambda : 0.50 --- final cost : 0.020977\n",
      "reg lambda : 0.52 --- final cost : 0.020937\n",
      "reg lambda : 0.54 --- final cost : 0.020899\n",
      "reg lambda : 0.56 --- final cost : 0.020864\n",
      "reg lambda : 0.58 --- final cost : 0.020831\n",
      "reg lambda : 0.60 --- final cost : 0.020800\n",
      "reg lambda : 0.62 --- final cost : 0.020770\n",
      "reg lambda : 0.64 --- final cost : 0.020743\n",
      "reg lambda : 0.66 --- final cost : 0.020717\n",
      "reg lambda : 0.68 --- final cost : 0.020693\n",
      "reg lambda : 0.70 --- final cost : 0.020671\n",
      "reg lambda : 0.72 --- final cost : 0.020650\n",
      "reg lambda : 0.74 --- final cost : 0.020631\n",
      "reg lambda : 0.76 --- final cost : 0.020612\n",
      "reg lambda : 0.78 --- final cost : 0.020596\n",
      "reg lambda : 0.80 --- final cost : 0.020580\n",
      "reg lambda : 0.82 --- final cost : 0.020566\n",
      "reg lambda : 0.84 --- final cost : 0.020553\n",
      "reg lambda : 0.86 --- final cost : 0.020542\n",
      "reg lambda : 0.88 --- final cost : 0.020531\n",
      "reg lambda : 0.90 --- final cost : 0.020522\n",
      "reg lambda : 0.92 --- final cost : 0.020513\n",
      "reg lambda : 0.94 --- final cost : 0.020506\n",
      "reg lambda : 0.96 --- final cost : 0.020499\n",
      "reg lambda : 0.98 --- final cost : 0.020494\n",
      "reg lambda : 1.00 --- final cost : 0.020489\n"
     ]
    }
   ],
   "source": [
    "for reg_lambda in np.linspace(0,1,51):\n",
    "    for epoch in range(training_epochs):\n",
    "        sess.run(train_op, feed_dict={X: x_train, Y: y_train})\n",
    "    final_cost = sess.run(cost, feed_dict={X: x_test, Y:y_test})\n",
    "    print('reg lambda : {:4.2f} --- final cost : {:8.6f}'.format(reg_lambda, final_cost))"
   ]
  },
  {
   "cell_type": "markdown",
   "metadata": {},
   "source": [
    "Close the session"
   ]
  },
  {
   "cell_type": "code",
   "execution_count": 10,
   "metadata": {},
   "outputs": [],
   "source": [
    "sess.close()"
   ]
  }
 ],
 "metadata": {
  "kernelspec": {
   "display_name": "Python 3",
   "language": "python",
   "name": "python3"
  },
  "language_info": {
   "codemirror_mode": {
    "name": "ipython",
    "version": 3
   },
   "file_extension": ".py",
   "mimetype": "text/x-python",
   "name": "python",
   "nbconvert_exporter": "python",
   "pygments_lexer": "ipython3",
   "version": "3.7.3"
  }
 },
 "nbformat": 4,
 "nbformat_minor": 1
}
