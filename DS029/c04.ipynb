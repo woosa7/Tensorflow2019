{
 "cells": [
  {
   "cell_type": "markdown",
   "metadata": {},
   "source": [
    "# 제4장 신경망과 케라스"
   ]
  },
  {
   "cell_type": "code",
   "execution_count": 1,
   "metadata": {},
   "outputs": [],
   "source": [
    "from tensorflow.python.keras.datasets import mnist\n",
    "from tensorflow.python.keras.utils import to_categorical\n",
    "from tensorflow.python.keras.models import Sequential, Model\n",
    "from tensorflow.python.keras.layers import Input, Dense\n",
    "from tensorflow.python.keras.callbacks import TensorBoard"
   ]
  },
  {
   "cell_type": "markdown",
   "metadata": {},
   "source": [
    "** 예제 코드4.1:데이터 불러오기 **"
   ]
  },
  {
   "cell_type": "code",
   "execution_count": 2,
   "metadata": {},
   "outputs": [
    {
     "name": "stdout",
     "output_type": "stream",
     "text": [
      "x_train.shape: (60000, 28, 28)\n",
      "x_test.shape: (10000, 28, 28)\n",
      "y_train.shape: (60000,)\n",
      "y_test.shape: (10000,)\n"
     ]
    }
   ],
   "source": [
    "(x_train, y_train), (x_test, y_test) = mnist.load_data()\n",
    "\n",
    "# 임포트한 데이터의 형태 확인\n",
    "print('x_train.shape:', x_train.shape)\n",
    "print('x_test.shape:', x_test.shape)\n",
    "print('y_train.shape:', y_train.shape)\n",
    "print('y_test.shape:', y_test.shape)"
   ]
  },
  {
   "cell_type": "markdown",
   "metadata": {},
   "source": [
    "** 예제 코드4.3:임포트한 데이터의 스케일 변환 **"
   ]
  },
  {
   "cell_type": "code",
   "execution_count": 3,
   "metadata": {},
   "outputs": [],
   "source": [
    "x_train = x_train.reshape(60000, 784)\n",
    "x_train = x_train/255.\n",
    "x_test = x_test.reshape(10000, 784)\n",
    "x_test = x_test/255."
   ]
  },
  {
   "cell_type": "markdown",
   "metadata": {},
   "source": [
    "** 예제 코드4.4:임포트한 데이터(클래스 레이블)를 네트워크에 맞게 변형 **"
   ]
  },
  {
   "cell_type": "code",
   "execution_count": 4,
   "metadata": {},
   "outputs": [],
   "source": [
    "y_train = to_categorical(y_train, 10)\n",
    "y_test = to_categorical(y_test, 10)"
   ]
  },
  {
   "cell_type": "markdown",
   "metadata": {},
   "source": [
    "** 예제 코드4.5:모델 구축 **"
   ]
  },
  {
   "cell_type": "code",
   "execution_count": 5,
   "metadata": {},
   "outputs": [],
   "source": [
    "model = Sequential()"
   ]
  },
  {
   "cell_type": "code",
   "execution_count": 6,
   "metadata": {},
   "outputs": [
    {
     "name": "stdout",
     "output_type": "stream",
     "text": [
      "WARNING:tensorflow:From C:\\Anaconda3\\lib\\site-packages\\tensorflow\\python\\ops\\init_ops.py:1251: calling VarianceScaling.__init__ (from tensorflow.python.ops.init_ops) with dtype is deprecated and will be removed in a future version.\n",
      "Instructions for updating:\n",
      "Call initializer instance with the dtype argument instead of passing it to the constructor\n"
     ]
    }
   ],
   "source": [
    "model.add(Dense(units=64, input_shape=(784,), activation='relu'))\n",
    "model.add(Dense(units=10, activation='softmax'))"
   ]
  },
  {
   "cell_type": "markdown",
   "metadata": {},
   "source": [
    "** 예제 코드4.8:Adam을 이용한 모델의 MNIST 데이터 학습 **"
   ]
  },
  {
   "cell_type": "code",
   "execution_count": 7,
   "metadata": {
    "scrolled": false
   },
   "outputs": [
    {
     "name": "stdout",
     "output_type": "stream",
     "text": [
      "Train on 48000 samples, validate on 12000 samples\n",
      "Epoch 1/10\n",
      "48000/48000 [==============================] - 4s 76us/sample - loss: 0.3385 - acc: 0.9038 - val_loss: 0.2011 - val_acc: 0.9436\n",
      "Epoch 2/10\n",
      "48000/48000 [==============================] - 3s 70us/sample - loss: 0.1695 - acc: 0.9517 - val_loss: 0.1570 - val_acc: 0.9538\n",
      "Epoch 3/10\n",
      "48000/48000 [==============================] - 3s 72us/sample - loss: 0.1252 - acc: 0.9638 - val_loss: 0.1363 - val_acc: 0.9601\n",
      "Epoch 4/10\n",
      "48000/48000 [==============================] - 3s 72us/sample - loss: 0.1013 - acc: 0.9699 - val_loss: 0.1175 - val_acc: 0.9652\n",
      "Epoch 5/10\n",
      "48000/48000 [==============================] - 3s 70us/sample - loss: 0.0845 - acc: 0.9747 - val_loss: 0.1023 - val_acc: 0.9701\n",
      "Epoch 6/10\n",
      "48000/48000 [==============================] - 3s 70us/sample - loss: 0.0699 - acc: 0.9792 - val_loss: 0.1059 - val_acc: 0.9677\n",
      "Epoch 7/10\n",
      "48000/48000 [==============================] - 3s 72us/sample - loss: 0.0596 - acc: 0.9818 - val_loss: 0.1035 - val_acc: 0.9703\n",
      "Epoch 8/10\n",
      "48000/48000 [==============================] - 3s 71us/sample - loss: 0.0525 - acc: 0.9840 - val_loss: 0.1017 - val_acc: 0.9710\n",
      "Epoch 9/10\n",
      "48000/48000 [==============================] - 3s 71us/sample - loss: 0.0447 - acc: 0.9870 - val_loss: 0.1012 - val_acc: 0.9699\n",
      "Epoch 10/10\n",
      "48000/48000 [==============================] - 3s 70us/sample - loss: 0.0392 - acc: 0.9881 - val_loss: 0.1090 - val_acc: 0.9684\n"
     ]
    }
   ],
   "source": [
    "model.compile(optimizer='adam', \n",
    "              loss='categorical_crossentropy',\n",
    "              metrics=['accuracy']\n",
    "             )\n",
    "\n",
    "tsb = TensorBoard(log_dir='./logs')\n",
    "\n",
    "history_adam = model.fit(x_train, y_train,\n",
    "                         batch_size=32,\n",
    "                         epochs=10,\n",
    "                         validation_split=0.2,\n",
    "                         callbacks=[tsb]\n",
    "                        )"
   ]
  },
  {
   "cell_type": "markdown",
   "metadata": {},
   "source": [
    "** 예제 코드4.9:Functional API를 이용한 모델 구축 준비**"
   ]
  },
  {
   "cell_type": "code",
   "execution_count": 8,
   "metadata": {},
   "outputs": [],
   "source": [
    "(x_train, y_train), (x_test, y_test) = mnist.load_data()\n",
    "x_train = x_train.reshape(60000, 784)\n",
    "x_train = x_train/255.\n",
    "x_test = x_test.reshape(10000, 784)\n",
    "x_test = x_test/255.\n",
    "\n",
    "y_train = to_categorical(y_train, 10)\n",
    "y_test = to_categorical(y_test, 10)\n",
    "\n",
    "tsb = TensorBoard(log_dir='./logs')"
   ]
  },
  {
   "cell_type": "markdown",
   "metadata": {},
   "source": [
    "** 예제 코드4.10:Functional API로 모델 구축 **"
   ]
  },
  {
   "cell_type": "code",
   "execution_count": 9,
   "metadata": {},
   "outputs": [],
   "source": [
    "input = Input(shape=(784, ))\n",
    "middle = Dense(units=64, activation='relu')(input)\n",
    "output = Dense(units=10, activation='softmax')(middle)\n",
    "\n",
    "model = Model(inputs=[input], outputs=[output])"
   ]
  },
  {
   "cell_type": "markdown",
   "metadata": {},
   "source": [
    "** 예제 코드4.11:구축한 모델의 컴파일 **"
   ]
  },
  {
   "cell_type": "code",
   "execution_count": 10,
   "metadata": {},
   "outputs": [],
   "source": [
    "model.compile(optimizer='adam', \n",
    "              loss='categorical_crossentropy',\n",
    "              metrics=['accuracy']\n",
    "             )"
   ]
  },
  {
   "cell_type": "markdown",
   "metadata": {},
   "source": [
    "** 예제 코드4.12:MNIST 데이터 세트를 학습 **"
   ]
  },
  {
   "cell_type": "code",
   "execution_count": 11,
   "metadata": {},
   "outputs": [
    {
     "name": "stdout",
     "output_type": "stream",
     "text": [
      "Train on 48000 samples, validate on 12000 samples\n",
      "Epoch 1/10\n",
      "48000/48000 [==============================] - 4s 74us/sample - loss: 0.3360 - acc: 0.9049 - val_loss: 0.1936 - val_acc: 0.9454\n",
      "Epoch 2/10\n",
      "48000/48000 [==============================] - 3s 71us/sample - loss: 0.1645 - acc: 0.9524 - val_loss: 0.1442 - val_acc: 0.9588\n",
      "Epoch 3/10\n",
      "48000/48000 [==============================] - 3s 72us/sample - loss: 0.1198 - acc: 0.9653 - val_loss: 0.1264 - val_acc: 0.9619\n",
      "Epoch 4/10\n",
      "48000/48000 [==============================] - 3s 71us/sample - loss: 0.0939 - acc: 0.9717 - val_loss: 0.1176 - val_acc: 0.9651\n",
      "Epoch 5/10\n",
      "48000/48000 [==============================] - 3s 70us/sample - loss: 0.0765 - acc: 0.9778 - val_loss: 0.1021 - val_acc: 0.9708\n",
      "Epoch 6/10\n",
      "48000/48000 [==============================] - 3s 70us/sample - loss: 0.0634 - acc: 0.9812 - val_loss: 0.1027 - val_acc: 0.9703\n",
      "Epoch 7/10\n",
      "48000/48000 [==============================] - 3s 71us/sample - loss: 0.0546 - acc: 0.9837 - val_loss: 0.1056 - val_acc: 0.9689\n",
      "Epoch 8/10\n",
      "48000/48000 [==============================] - 3s 71us/sample - loss: 0.0450 - acc: 0.9870 - val_loss: 0.0998 - val_acc: 0.9717\n",
      "Epoch 9/10\n",
      "48000/48000 [==============================] - 3s 73us/sample - loss: 0.0389 - acc: 0.9885 - val_loss: 0.0973 - val_acc: 0.9732\n",
      "Epoch 10/10\n",
      "48000/48000 [==============================] - 3s 71us/sample - loss: 0.0346 - acc: 0.9896 - val_loss: 0.0996 - val_acc: 0.9718\n"
     ]
    }
   ],
   "source": [
    "history_adam = model.fit(x_train, y_train,\n",
    "                         batch_size=32,\n",
    "                         epochs=10,\n",
    "                         validation_split=0.2,\n",
    "                         callbacks=[tsb]\n",
    "                        )"
   ]
  }
 ],
 "metadata": {
  "kernelspec": {
   "display_name": "Python 3",
   "language": "python",
   "name": "python3"
  },
  "language_info": {
   "codemirror_mode": {
    "name": "ipython",
    "version": 3
   },
   "file_extension": ".py",
   "mimetype": "text/x-python",
   "name": "python",
   "nbconvert_exporter": "python",
   "pygments_lexer": "ipython3",
   "version": "3.7.3"
  }
 },
 "nbformat": 4,
 "nbformat_minor": 2
}
