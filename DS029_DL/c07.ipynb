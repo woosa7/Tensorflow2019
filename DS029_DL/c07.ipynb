{
 "cells": [
  {
   "cell_type": "markdown",
   "metadata": {},
   "source": [
    "# 제7장 자주 사용하는 케라스 기능"
   ]
  },
  {
   "cell_type": "markdown",
   "metadata": {},
   "source": [
    "**예제 코드7.1:드롭아웃 레이어 사용 예**"
   ]
  },
  {
   "cell_type": "code",
   "execution_count": 1,
   "metadata": {
    "ExecuteTime": {
     "end_time": "2018-03-29T03:59:23.360049Z",
     "start_time": "2018-03-29T03:59:20.395991Z"
    }
   },
   "outputs": [
    {
     "name": "stdout",
     "output_type": "stream",
     "text": [
      "WARNING:tensorflow:From C:\\Anaconda3\\lib\\site-packages\\tensorflow\\python\\ops\\init_ops.py:1251: calling VarianceScaling.__init__ (from tensorflow.python.ops.init_ops) with dtype is deprecated and will be removed in a future version.\n",
      "Instructions for updating:\n",
      "Call initializer instance with the dtype argument instead of passing it to the constructor\n"
     ]
    }
   ],
   "source": [
    "# 드롭아웃 레이어를 포함하는 Sequential 모델 예제\n",
    "from tensorflow.python.keras.models import Sequential\n",
    "from tensorflow.python.keras.layers import Dense, Dropout\n",
    "\n",
    "\n",
    "model = Sequential()\n",
    "model.add(Dense(64, activation='relu', input_dim=20))\n",
    "model.add(Dropout(0.5))  # Dropout을 rate=0.5로 적용\n",
    "model.add(Dense(64, activation='relu'))\n",
    "model.add(Dropout(0.5))\n",
    "model.add(Dense(10, activation='softmax'))\n",
    "\n",
    "model.compile(\n",
    "    loss='categorical_crossentropy',\n",
    "    optimizer='SGD',\n",
    "    metrics=['accuracy']\n",
    ")"
   ]
  },
  {
   "cell_type": "markdown",
   "metadata": {},
   "source": [
    "**예제 코드7.2:BatchNormalization 레이어 사용 예**"
   ]
  },
  {
   "cell_type": "code",
   "execution_count": 2,
   "metadata": {
    "ExecuteTime": {
     "end_time": "2018-03-29T03:59:23.774829Z",
     "start_time": "2018-03-29T03:59:23.363224Z"
    }
   },
   "outputs": [],
   "source": [
    "# BatchNormalization 층을 포함하는 Sequential 모델 예제\n",
    "from tensorflow.python.keras.models import Sequential\n",
    "from tensorflow.python.keras.layers import Dense, Activation, BatchNormalization\n",
    "\n",
    "\n",
    "model = Sequential()\n",
    "model.add(Dense(64, input_dim=20))\n",
    "model.add(BatchNormalization())\n",
    "model.add(Activation('relu'))\n",
    "model.add(Dense(64))\n",
    "model.add(BatchNormalization())\n",
    "model.add(Activation('relu'))\n",
    "model.add(Dense(10, activation='softmax'))\n",
    "\n",
    "model.compile(\n",
    "    loss='categorical_crossentropy',\n",
    "    optimizer='SGD',\n",
    "    metrics=['accuracy']\n",
    ")"
   ]
  },
  {
   "cell_type": "markdown",
   "metadata": {
    "ExecuteTime": {
     "end_time": "2018-03-12T08:02:37.939118Z",
     "start_time": "2018-03-12T08:02:37.933014Z"
    }
   },
   "source": [
    "**예제 코드7.3:Lambda 레이어 사용 예**"
   ]
  },
  {
   "cell_type": "code",
   "execution_count": 3,
   "metadata": {
    "ExecuteTime": {
     "end_time": "2018-03-29T03:59:23.951303Z",
     "start_time": "2018-03-29T03:59:23.777227Z"
    }
   },
   "outputs": [],
   "source": [
    "# Lambda 레이어 사용 예제\n",
    "from tensorflow.python.keras.layers import Input, Lambda\n",
    "from tensorflow.python.keras.models import Model\n",
    "\n",
    "\n",
    "model_in = Input(shape=(20,))\n",
    "x = Lambda(lambda x: x/255.)(model_in)\n",
    "x = Dense(64, activation='relu')(x)\n",
    "model_out = Dense(10, activation='softmax')(x)\n",
    "\n",
    "model = Model(inputs=model_in, outputs=model_out)\n",
    "model.compile(\n",
    "    loss='categorical_crossentropy',\n",
    "    optimizer='SGD',\n",
    "    metrics=['accuracy']\n",
    ")"
   ]
  },
  {
   "cell_type": "markdown",
   "metadata": {
    "ExecuteTime": {
     "end_time": "2018-03-12T08:51:32.825647Z",
     "start_time": "2018-03-12T08:51:32.819683Z"
    }
   },
   "source": [
    "**예제 코드7.4:레이어의 인수를 사용해서 활성화 함수를 추가하는 예**"
   ]
  },
  {
   "cell_type": "code",
   "execution_count": 4,
   "metadata": {
    "ExecuteTime": {
     "end_time": "2018-03-29T03:59:24.211386Z",
     "start_time": "2018-03-29T03:59:23.953983Z"
    }
   },
   "outputs": [
    {
     "name": "stdout",
     "output_type": "stream",
     "text": [
      "WARNING:tensorflow:From C:\\Anaconda3\\lib\\site-packages\\tensorflow\\python\\ops\\nn_impl.py:180: add_dispatch_support.<locals>.wrapper (from tensorflow.python.ops.array_ops) is deprecated and will be removed in a future version.\n",
      "Instructions for updating:\n",
      "Use tf.where in 2.0, which has the same broadcast rule as np.where\n"
     ]
    }
   ],
   "source": [
    "# Dense 레이어의 인수로 relu와 시그모이드를를 지정해서 활성화 함수를 추가\n",
    "model = Sequential()\n",
    "model.add(Dense(64, activation='relu', input_dim=20))\n",
    "model.add(Dense(1, activation='sigmoid'))\n",
    "\n",
    "model.compile(\n",
    "    loss='binary_crossentropy',\n",
    "    optimizer='SGD',\n",
    "    metrics=['accuracy']\n",
    ")"
   ]
  },
  {
   "cell_type": "code",
   "execution_count": 5,
   "metadata": {
    "ExecuteTime": {
     "end_time": "2018-03-29T03:59:24.230601Z",
     "start_time": "2018-03-29T03:59:24.219276Z"
    }
   },
   "outputs": [
    {
     "name": "stdout",
     "output_type": "stream",
     "text": [
      "Model: \"sequential_2\"\n",
      "_________________________________________________________________\n",
      "Layer (type)                 Output Shape              Param #   \n",
      "=================================================================\n",
      "dense_8 (Dense)              (None, 64)                1344      \n",
      "_________________________________________________________________\n",
      "dense_9 (Dense)              (None, 1)                 65        \n",
      "=================================================================\n",
      "Total params: 1,409\n",
      "Trainable params: 1,409\n",
      "Non-trainable params: 0\n",
      "_________________________________________________________________\n"
     ]
    }
   ],
   "source": [
    "model.summary()"
   ]
  },
  {
   "cell_type": "markdown",
   "metadata": {},
   "source": [
    "**예제 코드7.5:Activation 레이어를 호출해서 활성화 함수를 생성•추가하는 예**"
   ]
  },
  {
   "cell_type": "code",
   "execution_count": 6,
   "metadata": {
    "ExecuteTime": {
     "end_time": "2018-03-29T03:59:24.470545Z",
     "start_time": "2018-03-29T03:59:24.235064Z"
    }
   },
   "outputs": [],
   "source": [
    "# Activation 레이어를 호출해서 별도로 활성화 층을 추가하고 있다\n",
    "from tensorflow.python.keras.layers import Activation\n",
    "from tensorflow.python.keras.activations import relu\n",
    "\n",
    "\n",
    "model = Sequential()\n",
    "model.add(Dense(64, input_dim=20))\n",
    "model.add(Activation('relu'))\n",
    "model.add(Dense(1))\n",
    "model.add(Activation('sigmoid'))\n",
    "\n",
    "model.compile(\n",
    "    loss='binary_crossentropy',\n",
    "    optimizer='SGD',\n",
    "    metrics=['accuracy']\n",
    ")"
   ]
  },
  {
   "cell_type": "code",
   "execution_count": 7,
   "metadata": {
    "ExecuteTime": {
     "end_time": "2018-03-29T03:59:24.489912Z",
     "start_time": "2018-03-29T03:59:24.478354Z"
    }
   },
   "outputs": [
    {
     "name": "stdout",
     "output_type": "stream",
     "text": [
      "Model: \"sequential_3\"\n",
      "_________________________________________________________________\n",
      "Layer (type)                 Output Shape              Param #   \n",
      "=================================================================\n",
      "dense_10 (Dense)             (None, 64)                1344      \n",
      "_________________________________________________________________\n",
      "activation_2 (Activation)    (None, 64)                0         \n",
      "_________________________________________________________________\n",
      "dense_11 (Dense)             (None, 1)                 65        \n",
      "_________________________________________________________________\n",
      "activation_3 (Activation)    (None, 1)                 0         \n",
      "=================================================================\n",
      "Total params: 1,409\n",
      "Trainable params: 1,409\n",
      "Non-trainable params: 0\n",
      "_________________________________________________________________\n"
     ]
    }
   ],
   "source": [
    "model.summary()"
   ]
  },
  {
   "cell_type": "markdown",
   "metadata": {},
   "source": [
    "**예제 코드7.6:Clipped ReLU 의 예**"
   ]
  },
  {
   "cell_type": "code",
   "execution_count": 8,
   "metadata": {
    "ExecuteTime": {
     "end_time": "2018-03-29T03:59:24.703439Z",
     "start_time": "2018-03-29T03:59:24.494083Z"
    }
   },
   "outputs": [],
   "source": [
    "# Clipped ReLU의 예\n",
    "from tensorflow.python.keras.layers import Activation\n",
    "from tensorflow.python.keras.activations import relu\n",
    "\n",
    "\n",
    "model = Sequential()\n",
    "model.add(\n",
    "    Dense(\n",
    "        64, \n",
    "        input_dim=20, \n",
    "        activation=lambda x: relu(x, max_value=2)\n",
    "    )\n",
    ")\n",
    "model.add(Dense(1, activation='sigmoid'))\n",
    "\n",
    "model.compile(\n",
    "    loss='binary_crossentropy',\n",
    "    optimizer='SGD',\n",
    "    metrics=['accuracy']\n",
    ")"
   ]
  },
  {
   "cell_type": "markdown",
   "metadata": {},
   "source": [
    "**예제 코드7.7：생성기 생성**"
   ]
  },
  {
   "cell_type": "code",
   "execution_count": 9,
   "metadata": {
    "ExecuteTime": {
     "end_time": "2018-03-29T03:59:24.716694Z",
     "start_time": "2018-03-29T03:59:24.707474Z"
    }
   },
   "outputs": [],
   "source": [
    "from tensorflow.python.keras.preprocessing.image import ImageDataGenerator\n",
    "\n",
    "\n",
    "# ImageDataGenerator 생성\n",
    "# 대표적인 옵션을 지정한 예\n",
    "gen = ImageDataGenerator(\n",
    "    rescale=1/255.,  # 스케일 변환 \n",
    "    rotation_range=90.,  # 데이터 확장 관련 \n",
    "    width_shift_range=1.,\n",
    "    height_shift_range=.5,\n",
    "    shear_range=.8,\n",
    "    zoom_range=.5,\n",
    "    horizontal_flip=True,\n",
    "    vertical_flip=True\n",
    ")"
   ]
  },
  {
   "cell_type": "markdown",
   "metadata": {},
   "source": [
    "**예제 코드7.8：iterator의 생과 데이터 취득**"
   ]
  },
  {
   "cell_type": "code",
   "execution_count": 10,
   "metadata": {
    "ExecuteTime": {
     "end_time": "2018-03-29T03:59:24.974562Z",
     "start_time": "2018-03-29T03:59:24.719421Z"
    }
   },
   "outputs": [
    {
     "name": "stdout",
     "output_type": "stream",
     "text": [
      "Found 25 images belonging to 2 classes.\n",
      "shape of x_train_batch: (5, 32, 32, 3)\n",
      "shape of y_train_batch: (5,)\n"
     ]
    }
   ],
   "source": [
    "# 폴더에서 이미지를 읽어들이고, iterator 생성\n",
    "iters = gen.flow_from_directory(\n",
    "    'img07',\n",
    "    target_size=(32, 32),\n",
    "    class_mode='binary',\n",
    "    batch_size=5,\n",
    "    shuffle=True\n",
    ")\n",
    "\n",
    "# iterator로부터 1 미니 배치분의 데이터를 취득\n",
    "x_train_batch, y_train_batch = next(iters)\n",
    "\n",
    "print('shape of x_train_batch:', x_train_batch.shape)\n",
    "print('shape of y_train_batch:', y_train_batch.shape)"
   ]
  },
  {
   "cell_type": "markdown",
   "metadata": {},
   "source": [
    "**예제 코드7.9：iterator를 이용한 모델 학습**"
   ]
  },
  {
   "cell_type": "code",
   "execution_count": 11,
   "metadata": {
    "ExecuteTime": {
     "end_time": "2018-03-29T03:59:48.861189Z",
     "start_time": "2018-03-29T03:59:46.765600Z"
    }
   },
   "outputs": [
    {
     "name": "stdout",
     "output_type": "stream",
     "text": [
      "5/5 [==============================] - 3s 544ms/step - loss: 1.1010\n"
     ]
    }
   ],
   "source": [
    "import math\n",
    "from tensorflow.python.keras.models import Sequential\n",
    "from tensorflow.python.keras.layers import Flatten, Dense, Conv2D\n",
    "\n",
    "\n",
    "# 분류용 모델 구축\n",
    "model = Sequential()\n",
    "model.add(Conv2D(16, (3, 3), input_shape=(32, 32, 3)))\n",
    "model.add(Flatten())\n",
    "model.add(Dense(32, activation='relu'))\n",
    "model.add(Dense(1, activation='sigmoid'))\n",
    "\n",
    "model.compile(\n",
    "    loss='binary_crossentropy',\n",
    "    optimizer='rmsprop'\n",
    ")\n",
    "\n",
    "\n",
    "# 몇 미니 배치를 학습하면 1에폭인지 계산\n",
    "steps_per_epoch = math.ceil(iters.samples/5)\n",
    "\n",
    "# `fit_generator` 메서드에 iterator를 전달\n",
    "histroy = model.fit_generator(\n",
    "    iters, \n",
    "    steps_per_epoch=steps_per_epoch\n",
    ")"
   ]
  }
 ],
 "metadata": {
  "kernelspec": {
   "display_name": "Python 3",
   "language": "python",
   "name": "python3"
  },
  "language_info": {
   "codemirror_mode": {
    "name": "ipython",
    "version": 3
   },
   "file_extension": ".py",
   "mimetype": "text/x-python",
   "name": "python",
   "nbconvert_exporter": "python",
   "pygments_lexer": "ipython3",
   "version": "3.7.3"
  },
  "toc": {
   "colors": {
    "hover_highlight": "#DAA520",
    "navigate_num": "#000000",
    "navigate_text": "#333333",
    "running_highlight": "#FF0000",
    "selected_highlight": "#FFD700",
    "sidebar_border": "#EEEEEE",
    "wrapper_background": "#FFFFFF"
   },
   "moveMenuLeft": true,
   "nav_menu": {
    "height": "30px",
    "width": "252px"
   },
   "navigate_menu": true,
   "number_sections": true,
   "sideBar": true,
   "threshold": 4,
   "toc_cell": false,
   "toc_section_display": "block",
   "toc_window_display": false,
   "widenNotebook": false
  }
 },
 "nbformat": 4,
 "nbformat_minor": 2
}
