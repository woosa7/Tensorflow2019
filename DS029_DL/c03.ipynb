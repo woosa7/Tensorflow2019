{
 "cells": [
  {
   "cell_type": "markdown",
   "metadata": {},
   "source": [
    "# 제3장 간단한 예제로 배우는 텐서플로의 기본"
   ]
  },
  {
   "cell_type": "code",
   "execution_count": 1,
   "metadata": {},
   "outputs": [],
   "source": [
    "%matplotlib inline\n",
    "import matplotlib.pyplot as plt\n",
    "\n",
    "import tensorflow as tf"
   ]
  },
  {
   "cell_type": "markdown",
   "metadata": {},
   "source": [
    "**예제 코드3.1:텐서플로의 1+1**"
   ]
  },
  {
   "cell_type": "code",
   "execution_count": 2,
   "metadata": {
    "scrolled": false
   },
   "outputs": [
    {
     "name": "stdout",
     "output_type": "stream",
     "text": [
      "2\n"
     ]
    }
   ],
   "source": [
    "a = tf.constant(1, name='a')\n",
    "b = tf.constant(1, name='b')\n",
    "c = a + b\n",
    "\n",
    "with tf.Session() as sess:\n",
    "    print(sess.run(c))"
   ]
  },
  {
   "cell_type": "markdown",
   "metadata": {},
   "source": [
    "**예제 코드3.2:연산 결과의 데이터 형 조사**"
   ]
  },
  {
   "cell_type": "code",
   "execution_count": 3,
   "metadata": {
    "scrolled": false
   },
   "outputs": [
    {
     "name": "stdout",
     "output_type": "stream",
     "text": [
      "Tensor(\"add_1:0\", shape=(), dtype=int32)\n"
     ]
    }
   ],
   "source": [
    "a = tf.constant(1, name='a')\n",
    "b = tf.constant(1, name='b')\n",
    "c = a + b\n",
    "\n",
    "print(c)"
   ]
  },
  {
   "cell_type": "markdown",
   "metadata": {},
   "source": [
    "**예제 코드3.3:데이터 플로우 그래프의 정의 표시. 출력을 보면 a와 add가 노드로 되어 있는 것을 알 수 있다**"
   ]
  },
  {
   "cell_type": "code",
   "execution_count": 4,
   "metadata": {},
   "outputs": [],
   "source": [
    "# 예제 코드3.3의 결과가 알기 쉽도록, 그래프를 리셋\n",
    "tf.reset_default_graph()"
   ]
  },
  {
   "cell_type": "code",
   "execution_count": 5,
   "metadata": {},
   "outputs": [
    {
     "name": "stdout",
     "output_type": "stream",
     "text": [
      "node {\n",
      "  name: \"a\"\n",
      "  op: \"Const\"\n",
      "  attr {\n",
      "    key: \"dtype\"\n",
      "    value {\n",
      "      type: DT_INT32\n",
      "    }\n",
      "  }\n",
      "  attr {\n",
      "    key: \"value\"\n",
      "    value {\n",
      "      tensor {\n",
      "        dtype: DT_INT32\n",
      "        tensor_shape {\n",
      "        }\n",
      "        int_val: 1\n",
      "      }\n",
      "    }\n",
      "  }\n",
      "}\n",
      "node {\n",
      "  name: \"b\"\n",
      "  op: \"Const\"\n",
      "  attr {\n",
      "    key: \"dtype\"\n",
      "    value {\n",
      "      type: DT_INT32\n",
      "    }\n",
      "  }\n",
      "  attr {\n",
      "    key: \"value\"\n",
      "    value {\n",
      "      tensor {\n",
      "        dtype: DT_INT32\n",
      "        tensor_shape {\n",
      "        }\n",
      "        int_val: 1\n",
      "      }\n",
      "    }\n",
      "  }\n",
      "}\n",
      "node {\n",
      "  name: \"add\"\n",
      "  op: \"Add\"\n",
      "  input: \"a\"\n",
      "  input: \"b\"\n",
      "  attr {\n",
      "    key: \"T\"\n",
      "    value {\n",
      "      type: DT_INT32\n",
      "    }\n",
      "  }\n",
      "}\n",
      "versions {\n",
      "  producer: 38\n",
      "}\n",
      "\n"
     ]
    }
   ],
   "source": [
    "a = tf.constant(1, name='a')\n",
    "b = tf.constant(1, name='b')\n",
    "c = a + b\n",
    "\n",
    "graph = tf.get_default_graph()\n",
    "print(graph.as_graph_def())"
   ]
  },
  {
   "cell_type": "markdown",
   "metadata": {},
   "source": [
    "**예제 코드3.4:변수 예제**"
   ]
  },
  {
   "cell_type": "code",
   "execution_count": 6,
   "metadata": {},
   "outputs": [
    {
     "name": "stdout",
     "output_type": "stream",
     "text": [
      "첫번째: [c, a] = [2, 2]\n",
      "두번째: [c, a] = [3, 3]\n"
     ]
    }
   ],
   "source": [
    "a = tf.Variable(1, name='a')\n",
    "b = tf.constant(1, name='b')\n",
    "c = tf.assign(a, a + b)\n",
    "\n",
    "with tf.Session() as sess:\n",
    "    sess.run(tf.global_variables_initializer())\n",
    "    \n",
    "    print('첫번째: [c, a] =', sess.run([c, a]))\n",
    "    # 변수 c 가 갱신된다\n",
    "    print('두번째: [c, a] =', sess.run([c, a])) "
   ]
  },
  {
   "cell_type": "markdown",
   "metadata": {},
   "source": [
    "**예제 코드3.5:플레이스홀더 예제**"
   ]
  },
  {
   "cell_type": "code",
   "execution_count": 7,
   "metadata": {},
   "outputs": [
    {
     "name": "stdout",
     "output_type": "stream",
     "text": [
      "a + b = 2\n"
     ]
    }
   ],
   "source": [
    "a = tf.placeholder(dtype=tf.int32, name='a')\n",
    "b = tf.constant(1, name='b')\n",
    "c = a + b\n",
    "\n",
    "with tf.Session() as sess:\n",
    "    print('a + b =', sess.run(c, feed_dict={a: 1}))"
   ]
  },
  {
   "cell_type": "markdown",
   "metadata": {},
   "source": [
    "**예제 코드3.6:연산 예제**"
   ]
  },
  {
   "cell_type": "code",
   "execution_count": 8,
   "metadata": {},
   "outputs": [
    {
     "name": "stdout",
     "output_type": "stream",
     "text": [
      "a + b =  5\n",
      "a * b =  6\n"
     ]
    }
   ],
   "source": [
    "a = tf.constant(2, name='a')\n",
    "b = tf.constant(3, name='b')\n",
    "c = tf.add(a, b)  # a + b\n",
    "d = tf.multiply(a, b)  # a*b\n",
    "\n",
    "with tf.Session() as sess:\n",
    "    print('a + b = ', sess.run(c))\n",
    "    print('a * b = ', sess.run(d))"
   ]
  },
  {
   "cell_type": "markdown",
   "metadata": {},
   "source": [
    "**예제 코드3.7:벡터 연산의 예**"
   ]
  },
  {
   "cell_type": "code",
   "execution_count": 9,
   "metadata": {},
   "outputs": [
    {
     "name": "stdout",
     "output_type": "stream",
     "text": [
      "a + b =  [5 7 9]\n"
     ]
    }
   ],
   "source": [
    "a = tf.constant([1, 2, 3], name='a')\n",
    "b = tf.constant([4, 5, 6], name='b')\n",
    "c = a + b\n",
    "\n",
    "with tf.Session() as sess:\n",
    "    print('a + b = ', sess.run(c))"
   ]
  },
  {
   "cell_type": "markdown",
   "metadata": {},
   "source": [
    "**예제 코드3.8:행렬 연산의 예**"
   ]
  },
  {
   "cell_type": "code",
   "execution_count": 10,
   "metadata": {
    "scrolled": true
   },
   "outputs": [
    {
     "name": "stdout",
     "output_type": "stream",
     "text": [
      "shape of a:  (2, 2)\n",
      "shape of b:  (2, 1)\n",
      "shape of c:  (2, 1)\n",
      "a = \n",
      " [[1 2]\n",
      " [3 4]]\n",
      "b = \n",
      " [[1]\n",
      " [2]]\n",
      "c = \n",
      " [[ 5]\n",
      " [11]]\n"
     ]
    }
   ],
   "source": [
    "a = tf.constant([[1, 2], [3, 4]], name='a')\n",
    "b = tf.constant([[1], [2]], name='b')\n",
    "c = tf.matmul(a, b)\n",
    "\n",
    "print('shape of a: ', a.shape)\n",
    "print('shape of b: ', b.shape)\n",
    "print('shape of c: ', c.shape)\n",
    "\n",
    "with tf.Session() as sess:\n",
    "    print('a = \\n', sess.run(a))\n",
    "    print('b = \\n', sess.run(b))\n",
    "    print('c = \\n', sess.run(c))"
   ]
  },
  {
   "cell_type": "markdown",
   "metadata": {},
   "source": [
    "**예제 코드3.9:텐서의 플레이스홀더와 미지의 차원**"
   ]
  },
  {
   "cell_type": "code",
   "execution_count": 11,
   "metadata": {
    "scrolled": false
   },
   "outputs": [
    {
     "name": "stdout",
     "output_type": "stream",
     "text": [
      "-- [[1, 2]]를 대입 --\n",
      "a =  [[1 2]]\n",
      "\n",
      "-- [[1, 2], [3, 4]]를 대입 --\n",
      "a =  [[1 2]\n",
      " [3 4]]\n"
     ]
    }
   ],
   "source": [
    "a = tf.placeholder(shape=(None, 2), dtype=tf.int32, name='a')\n",
    "\n",
    "with tf.Session() as sess:\n",
    "    print('-- [[1, 2]]를 대입 --')\n",
    "    print('a = ', sess.run(a, feed_dict={a: [[1, 2]]}))\n",
    "    \n",
    "    print('\\n-- [[1, 2], [3, 4]]를 대입 --')\n",
    "    print('a = ', sess.run(a, feed_dict={a: [[1, 2], [3, 4]]}))"
   ]
  },
  {
   "cell_type": "markdown",
   "metadata": {},
   "source": [
    "**예제 코드3.10:세션이 바뀌면 변수가 초기화된다**"
   ]
  },
  {
   "cell_type": "code",
   "execution_count": 12,
   "metadata": {
    "scrolled": true
   },
   "outputs": [
    {
     "name": "stdout",
     "output_type": "stream",
     "text": [
      "첫 번째 b =  2\n",
      "두 번째 b =  3\n",
      "-- 새로운 세션 --\n",
      "첫 번째 b =  2\n",
      "두 번째 b =  3\n"
     ]
    }
   ],
   "source": [
    "a = tf.Variable(1, name='a')\n",
    "b = tf.assign(a, a + 1)\n",
    "\n",
    "with tf.Session() as sess:\n",
    "    sess.run(tf.global_variables_initializer())\n",
    "    print('첫 번째 b = ', sess.run(b))\n",
    "    print('두 번째 b = ', sess.run(b))\n",
    "\n",
    "# 세션이 바뀌면 원래의 값으로 돌아가버린다\n",
    "with tf.Session() as sess:\n",
    "    print('-- 새로운 세션 --')\n",
    "    sess.run(tf.global_variables_initializer())\n",
    "    print('첫 번째 b = ', sess.run(b))\n",
    "    print('두 번째 b = ', sess.run(b))"
   ]
  },
  {
   "cell_type": "markdown",
   "metadata": {},
   "source": [
    "**예제 코드3.11:Saver로 변수 저장**"
   ]
  },
  {
   "cell_type": "code",
   "execution_count": 13,
   "metadata": {
    "scrolled": false
   },
   "outputs": [
    {
     "name": "stdout",
     "output_type": "stream",
     "text": [
      "2\n",
      "3\n",
      "WARNING:tensorflow:From C:\\Anaconda3\\lib\\site-packages\\tensorflow\\python\\training\\saver.py:1276: checkpoint_exists (from tensorflow.python.training.checkpoint_management) is deprecated and will be removed in a future version.\n",
      "Instructions for updating:\n",
      "Use standard file APIs to check for files with this prefix.\n",
      "INFO:tensorflow:Restoring parameters from model/model.ckpt\n",
      "4\n",
      "5\n"
     ]
    }
   ],
   "source": [
    "a = tf.Variable(1, name='a')\n",
    "b = tf.assign(a, a + 1)\n",
    "\n",
    "saver = tf.train.Saver()\n",
    "with tf.Session() as sess:\n",
    "    sess.run(tf.global_variables_initializer())\n",
    "    print(sess.run(b))\n",
    "    print(sess.run(b))\n",
    "\n",
    "    # 변수의 값을 model/model.ckpt에 저장\n",
    "    saver.save(sess, 'model/model.ckpt')\n",
    "\n",
    "# model/model.ckpt로부터 변수의 값을 읽어 들임\n",
    "saver = tf.train.Saver()\n",
    "with tf.Session() as sess:\n",
    "    sess.run(tf.global_variables_initializer())\n",
    "    \n",
    "    saver.restore(sess, save_path='model/model.ckpt')\n",
    "    print(sess.run(b))\n",
    "    print(sess.run(b))"
   ]
  },
  {
   "cell_type": "markdown",
   "metadata": {},
   "source": [
    "**예제 코드3.13:경사하강법으로 2차원 함수 최소화**"
   ]
  },
  {
   "cell_type": "code",
   "execution_count": 14,
   "metadata": {},
   "outputs": [
    {
     "name": "stdout",
     "output_type": "stream",
     "text": [
      "WARNING:tensorflow:From C:\\Anaconda3\\lib\\site-packages\\tensorflow\\python\\ops\\math_grad.py:1205: add_dispatch_support.<locals>.wrapper (from tensorflow.python.ops.array_ops) is deprecated and will be removed in a future version.\n",
      "Instructions for updating:\n",
      "Use tf.where in 2.0, which has the same broadcast rule as np.where\n",
      "x =  0.98847073\n"
     ]
    }
   ],
   "source": [
    "# 파라미터는 변수로 정의\n",
    "x = tf.Variable(0., name='x')\n",
    "\n",
    "# 파라미터를 사용해서 최소화 하고 싶은 함수 정의\n",
    "func = (x - 1)**2\n",
    "\n",
    "optimizer = tf.train.GradientDescentOptimizer(learning_rate=0.1) \n",
    "\n",
    "train_op = optimizer.minimize(func)\n",
    "\n",
    "# train_step을 반복 실행\n",
    "with tf.Session() as sess:\n",
    "    sess.run(tf.global_variables_initializer())\n",
    "    for i in range(20):\n",
    "        sess.run(train_op)\n",
    "        \n",
    "    print('x = ', sess.run(x))"
   ]
  },
  {
   "cell_type": "markdown",
   "metadata": {},
   "source": [
    "**예제 코드3.15:케라스 임포트**"
   ]
  },
  {
   "cell_type": "code",
   "execution_count": 15,
   "metadata": {
    "scrolled": false
   },
   "outputs": [
    {
     "name": "stderr",
     "output_type": "stream",
     "text": [
      "Using TensorFlow backend.\n"
     ]
    }
   ],
   "source": [
    "# pip install keras\n",
    "import keras"
   ]
  },
  {
   "cell_type": "code",
   "execution_count": 16,
   "metadata": {},
   "outputs": [],
   "source": [
    "(x_train, y_train), (x_test, y_test) = keras.datasets.boston_housing.load_data()"
   ]
  },
  {
   "cell_type": "markdown",
   "metadata": {},
   "source": [
    "**예제 코드3.16:히스토그램 표시**"
   ]
  },
  {
   "cell_type": "code",
   "execution_count": 17,
   "metadata": {
    "scrolled": false
   },
   "outputs": [
    {
     "data": {
      "image/png": "[encoded data removed]",
      "text/plain": [
       "<Figure size 720x576 with 1 Axes>"
      ]
     },
     "metadata": {
      "needs_background": "light"
     },
     "output_type": "display_data"
    },
    {
     "data": {
      "image/png": "[encoded data removed]",
      "text/plain": [
       "<Figure size 720x576 with 1 Axes>"
      ]
     },
     "metadata": {
      "needs_background": "light"
     },
     "output_type": "display_data"
    }
   ],
   "source": [
    "# matplotlib의 그래프를 실행한 브라우저에서 바로 볼 수 있게 함\n",
    "%matplotlib inline\n",
    "import matplotlib.pyplot as plt\n",
    "\n",
    "plt.rcParams['font.family'] = ['Calibri']\n",
    "plt.rcParams['font.size'] = 20\n",
    "plt.rcParams['figure.figsize'] = [10, 8]\n",
    "\n",
    "plt.hist(y_train, bins=20)\n",
    "plt.xlabel('Price($1,000)')\n",
    "plt.ylabel('Counts')\n",
    "plt.show()\n",
    "\n",
    "plt.plot(x_train[:, 5], y_train, 'o')\n",
    "plt.xlabel('No. of rooms')\n",
    "plt.ylabel('Price($1,000)')\n",
    "plt.show()"
   ]
  },
  {
   "cell_type": "markdown",
   "metadata": {},
   "source": [
    "**예제 코드3.17:데이터 표준화**"
   ]
  },
  {
   "cell_type": "code",
   "execution_count": 18,
   "metadata": {
    "scrolled": false
   },
   "outputs": [
    {
     "data": {
      "text/plain": [
       "Text(0, 0.5, 'Price (Normalized)')"
      ]
     },
     "execution_count": 18,
     "metadata": {},
     "output_type": "execute_result"
    },
    {
     "data": {
      "image/png": "[encoded data removed]",
      "text/plain": [
       "<Figure size 720x576 with 1 Axes>"
      ]
     },
     "metadata": {
      "needs_background": "light"
     },
     "output_type": "display_data"
    }
   ],
   "source": [
    "x_train_mean = x_train.mean(axis=0)\n",
    "x_train_std = x_train.std(axis=0)\n",
    "y_train_mean = y_train.mean()\n",
    "y_train_std = y_train.std()\n",
    "\n",
    "x_train = (x_train - x_train_mean)/x_train_std\n",
    "y_train = (y_train - y_train_mean)/y_train_std\n",
    "\n",
    "# test data도 train data의 평균과 표준편차로 정규화\n",
    "x_test = (x_test - x_train_mean)/x_train_std\n",
    "y_test = (y_test - y_train_mean)/y_train_std\n",
    "\n",
    "plt.plot(x_train[:, 5], y_train, 'o')\n",
    "plt.xlabel('No. of rooms (Normalized)')\n",
    "plt.ylabel('Price (Normalized)')"
   ]
  },
  {
   "cell_type": "markdown",
   "metadata": {},
   "source": [
    "**예제 코드3.18:주택가격을 추정하는 모델**"
   ]
  },
  {
   "cell_type": "code",
   "execution_count": 19,
   "metadata": {},
   "outputs": [],
   "source": [
    "x = tf.placeholder(tf.float32, (None, 13), name='x')\n",
    "y = tf.placeholder(tf.float32, (None, 1), name='y')\n",
    "\n",
    "# 설명 변수와 가중치 w를 곱한 다음 전부 더한 간단한 모델\n",
    "w = tf.Variable(tf.random_normal((13, 1)))\n",
    "y_pred = tf.matmul(x, w)"
   ]
  },
  {
   "cell_type": "markdown",
   "metadata": {},
   "source": [
    "**예제 코드3.19:오차의 정의와 train_step의 정의**"
   ]
  },
  {
   "cell_type": "code",
   "execution_count": 20,
   "metadata": {},
   "outputs": [],
   "source": [
    "# 실제값과 추정값의 차이의 제곱의 평균(MSE)을 오차로 한다.\n",
    "loss = tf.reduce_mean((y - y_pred)**2)\n",
    "optimizer = tf.train.GradientDescentOptimizer(learning_rate=0.1)\n",
    "train_step = optimizer.minimize(loss)"
   ]
  },
  {
   "cell_type": "markdown",
   "metadata": {},
   "source": [
    "**예제 코드3.20:학습 루프**"
   ]
  },
  {
   "cell_type": "code",
   "execution_count": 21,
   "metadata": {},
   "outputs": [
    {
     "name": "stdout",
     "output_type": "stream",
     "text": [
      "step: 10, train_loss: 0.7657779455184937\n",
      "step: 20, train_loss: 0.5683743953704834\n",
      "step: 30, train_loss: 0.4672979712486267\n",
      "step: 40, train_loss: 0.4059533476829529\n",
      "step: 50, train_loss: 0.3663991391658783\n",
      "step: 60, train_loss: 0.3395847976207733\n",
      "step: 70, train_loss: 0.3206246495246887\n",
      "step: 80, train_loss: 0.3067643344402313\n",
      "step: 90, train_loss: 0.296377956867218\n",
      "step: 100, train_loss: 0.28845682740211487\n",
      "step: 110, train_loss: 0.2823425531387329\n",
      "step: 120, train_loss: 0.2775847315788269\n",
      "step: 130, train_loss: 0.2738626003265381\n",
      "step: 140, train_loss: 0.27094054222106934\n",
      "step: 150, train_loss: 0.26864147186279297\n",
      "step: 160, train_loss: 0.26682978868484497\n",
      "step: 170, train_loss: 0.2654009461402893\n",
      "step: 180, train_loss: 0.26427334547042847\n",
      "step: 190, train_loss: 0.26338306069374084\n",
      "step: 200, train_loss: 0.26267996430397034\n"
     ]
    }
   ],
   "source": [
    "with tf.Session() as sess:\n",
    "    sess.run(tf.global_variables_initializer())\n",
    "    \n",
    "    for step in range(200):\n",
    "        # train_step 이 None 을 반환하기 때문에 _ 로 지정\n",
    "        # y_train과 y의 차원을 맞추기위해서 reshape이 필요\n",
    "        train_loss, _ = sess.run([loss, train_step],\n",
    "                                 feed_dict={x: x_train, y: y_train.reshape(-1, 1)})\n",
    "        \n",
    "        if (step+1) % 10 == 0:\n",
    "            print('step: {}, train_loss: {}'.format(step+1, train_loss))\n",
    "\n",
    "    # 학습이 끝나면, 평가용 데이터로 예측해본다\n",
    "    pred_ = sess.run(y_pred, feed_dict={x: x_test})"
   ]
  },
  {
   "cell_type": "markdown",
   "metadata": {},
   "source": [
    "**그림3.12:평가용 데이터에 대한 실제값과 추정값**"
   ]
  },
  {
   "cell_type": "code",
   "execution_count": 22,
   "metadata": {
    "scrolled": false
   },
   "outputs": [
    {
     "data": {
      "image/png": "[encoded data removed]",
      "text/plain": [
       "<Figure size 720x576 with 1 Axes>"
      ]
     },
     "metadata": {
      "needs_background": "light"
     },
     "output_type": "display_data"
    }
   ],
   "source": [
    "plt.plot(x_test[:, 5], pred_, 'o', label='y_pred')\n",
    "plt.plot(x_test[:, 5], y_test, 'x', label='y_test')\n",
    "plt.legend(loc='upper left')\n",
    "plt.xlabel('No. of room')\n",
    "plt.ylabel('Price')\n",
    "plt.show()"
   ]
  },
  {
   "cell_type": "markdown",
   "metadata": {},
   "source": [
    "**예제 코드3.21:미니배치를 1개씩 반환하는 생성기**"
   ]
  },
  {
   "cell_type": "code",
   "execution_count": 23,
   "metadata": {},
   "outputs": [],
   "source": [
    "import numpy as np"
   ]
  },
  {
   "cell_type": "code",
   "execution_count": 24,
   "metadata": {},
   "outputs": [],
   "source": [
    "def get_batches(x, y, batch_size):\n",
    "    n_data = len(x)\n",
    "    indices = np.arange(n_data)\n",
    "    np.random.shuffle(indices)\n",
    "    x_shuffled = x[indices]\n",
    "    y_shuffled = y[indices]\n",
    "    \n",
    "    # 원래 데이터에서 임의로 bathc_size개씩 추출\n",
    "    for i in range(0, n_data, batch_size):\n",
    "        x_batch = x_shuffled[i: i + batch_size]\n",
    "        y_batch = y_shuffled[i: i + batch_size]\n",
    "        yield x_batch, y_batch"
   ]
  },
  {
   "cell_type": "markdown",
   "metadata": {},
   "source": [
    "**예제 코드3.22:미니배치를 이용한 학습**"
   ]
  },
  {
   "cell_type": "code",
   "execution_count": 25,
   "metadata": {
    "scrolled": false
   },
   "outputs": [
    {
     "name": "stdout",
     "output_type": "stream",
     "text": [
      "epoch: 10, train_loss: 0.27009183168411255\n",
      "epoch: 20, train_loss: 0.25916117429733276\n",
      "epoch: 30, train_loss: 0.2585522532463074\n",
      "epoch: 40, train_loss: 0.3040558397769928\n",
      "epoch: 50, train_loss: 0.2782788574695587\n",
      "epoch: 60, train_loss: 0.2774823009967804\n",
      "epoch: 70, train_loss: 0.2783939242362976\n",
      "epoch: 80, train_loss: 0.2819313704967499\n",
      "epoch: 90, train_loss: 0.2653663158416748\n",
      "epoch: 100, train_loss: 0.25687623023986816\n",
      "epoch: 110, train_loss: 0.2741750478744507\n",
      "epoch: 120, train_loss: 0.2840564250946045\n",
      "epoch: 130, train_loss: 0.28473860025405884\n",
      "epoch: 140, train_loss: 0.27493447065353394\n",
      "epoch: 150, train_loss: 0.30076462030410767\n",
      "epoch: 160, train_loss: 0.25453653931617737\n",
      "epoch: 170, train_loss: 0.2907234728336334\n",
      "epoch: 180, train_loss: 0.2778119146823883\n",
      "epoch: 190, train_loss: 0.27999016642570496\n",
      "epoch: 200, train_loss: 0.2837204933166504\n"
     ]
    }
   ],
   "source": [
    "# 미니배치 사이즈\n",
    "BATCH_SIZE = 64\n",
    "\n",
    "with tf.Session() as sess:\n",
    "    sess.run(tf.global_variables_initializer())\n",
    "    \n",
    "    for epoch in range(200):\n",
    "        t_loss = []\n",
    "        for x_batch, y_batch in get_batches(x_train, y_train, BATCH_SIZE):\n",
    "            train_loss, _ = sess.run([loss, train_step],\n",
    "                                     feed_dict={x: x_batch, y: y_batch.reshape(-1, 1)})\n",
    "            t_loss.append(train_loss)\n",
    "            \n",
    "        if (epoch+1) % 10 == 0:\n",
    "            print('epoch: {}, train_loss: {}'.format(epoch+1, np.mean(t_loss)))           \n",
    "    \n",
    "    pred_ = sess.run(y_pred, feed_dict={x: x_test})"
   ]
  }
 ],
 "metadata": {
  "kernelspec": {
   "display_name": "Python 3",
   "language": "python",
   "name": "python3"
  },
  "language_info": {
   "codemirror_mode": {
    "name": "ipython",
    "version": 3
   },
   "file_extension": ".py",
   "mimetype": "text/x-python",
   "name": "python",
   "nbconvert_exporter": "python",
   "pygments_lexer": "ipython3",
   "version": "3.7.3"
  }
 },
 "nbformat": 4,
 "nbformat_minor": 2
}
