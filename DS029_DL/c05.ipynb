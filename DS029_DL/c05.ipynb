{
 "cells": [
  {
   "cell_type": "markdown",
   "metadata": {},
   "source": [
    "# 제5장 케라스를 이용한 CNN 구현"
   ]
  },
  {
   "cell_type": "markdown",
   "metadata": {},
   "source": [
    "** 예제코드5.1:데이터 임포트 **"
   ]
  },
  {
   "cell_type": "code",
   "execution_count": 1,
   "metadata": {},
   "outputs": [],
   "source": [
    "from tensorflow.python.keras.datasets import cifar10\n",
    "\n",
    "(x_train, y_train), (x_test, y_test) = cifar10.load_data()"
   ]
  },
  {
   "cell_type": "markdown",
   "metadata": {},
   "source": [
    "** 예제코드5.2:임포트한 데이터의 크기 확인 **"
   ]
  },
  {
   "cell_type": "code",
   "execution_count": 2,
   "metadata": {},
   "outputs": [
    {
     "name": "stdout",
     "output_type": "stream",
     "text": [
      "x_train.shape : (50000, 32, 32, 3)\n",
      "x_test.shape  : (10000, 32, 32, 3)\n",
      "y_train.shape : (50000, 1)\n",
      "y_test.shape  : (10000, 1)\n"
     ]
    }
   ],
   "source": [
    "# 데이터의 크기 확인\n",
    "print('x_train.shape :', x_train.shape)\n",
    "print('x_test.shape  :', x_test.shape)\n",
    "print('y_train.shape :', y_train.shape)\n",
    "print('y_test.shape  :', y_test.shape)"
   ]
  },
  {
   "cell_type": "markdown",
   "metadata": {},
   "source": [
    "** 예제코드5.3:데이터의 스케일 변환과 클래스 레이블을 원-핫벡터로 변환 **\n"
   ]
  },
  {
   "cell_type": "code",
   "execution_count": 3,
   "metadata": {},
   "outputs": [],
   "source": [
    "from tensorflow.python.keras.utils import to_categorical\n",
    "\n",
    "# 특징량 정규화\n",
    "x_train = x_train/255.\n",
    "x_test = x_test/255.\n",
    "\n",
    "# 클래스 레이블을 원-핫벡터화\n",
    "y_train = to_categorical(y_train, 10)\n",
    "y_test = to_categorical(y_test, 10)"
   ]
  },
  {
   "cell_type": "markdown",
   "metadata": {},
   "source": [
    "** 예제코드5.4:모델 구축 준비 **"
   ]
  },
  {
   "cell_type": "code",
   "execution_count": 4,
   "metadata": {},
   "outputs": [],
   "source": [
    "from tensorflow.python.keras.models import Sequential\n",
    "\n",
    "model = Sequential()"
   ]
  },
  {
   "cell_type": "markdown",
   "metadata": {},
   "source": [
    "** 예제코드5.5:합성곱 층 추가 **"
   ]
  },
  {
   "cell_type": "code",
   "execution_count": 5,
   "metadata": {},
   "outputs": [
    {
     "name": "stdout",
     "output_type": "stream",
     "text": [
      "WARNING:tensorflow:From C:\\Anaconda3\\lib\\site-packages\\tensorflow\\python\\ops\\init_ops.py:1251: calling VarianceScaling.__init__ (from tensorflow.python.ops.init_ops) with dtype is deprecated and will be removed in a future version.\n",
      "Instructions for updating:\n",
      "Call initializer instance with the dtype argument instead of passing it to the constructor\n"
     ]
    }
   ],
   "source": [
    "from tensorflow.python.keras.layers import Conv2D\n",
    "\n",
    "model.add(\n",
    "    Conv2D(\n",
    "        filters=32,\n",
    "        input_shape=(32, 32, 3),\n",
    "        kernel_size=(3, 3),\n",
    "        strides=(1, 1),\n",
    "        padding='same',\n",
    "        activation='relu'\n",
    "    )\n",
    ")\n",
    "\n",
    "model.add(\n",
    "    Conv2D(\n",
    "        filters=32,\n",
    "        kernel_size=(3, 3),\n",
    "        strides=(1, 1),\n",
    "        padding='same',\n",
    "        activation='relu'\n",
    "    )\n",
    ")"
   ]
  },
  {
   "cell_type": "markdown",
   "metadata": {},
   "source": [
    "** 예제코드5.6:풀링 층 추가 **"
   ]
  },
  {
   "cell_type": "code",
   "execution_count": 6,
   "metadata": {},
   "outputs": [],
   "source": [
    "from tensorflow.python.keras.layers import MaxPooling2D\n",
    "\n",
    "model.add(MaxPooling2D(pool_size=(2, 2)))"
   ]
  },
  {
   "cell_type": "markdown",
   "metadata": {},
   "source": [
    "** 예제코드5.7:드롭아웃층 추가 **"
   ]
  },
  {
   "cell_type": "code",
   "execution_count": 7,
   "metadata": {},
   "outputs": [],
   "source": [
    "from tensorflow.python.keras.layers import Dropout\n",
    "\n",
    "model.add(Dropout(0.25))"
   ]
  },
  {
   "cell_type": "markdown",
   "metadata": {},
   "source": [
    "** 예제코드5.8:합성곱 층과 풀링 층 추가 **"
   ]
  },
  {
   "cell_type": "code",
   "execution_count": 8,
   "metadata": {},
   "outputs": [],
   "source": [
    "model.add(\n",
    "    Conv2D(\n",
    "        filters=64,\n",
    "        kernel_size=(3, 3),\n",
    "        strides=(1, 1),\n",
    "        padding='same',\n",
    "        activation='relu'\n",
    "    )\n",
    ")\n",
    "model.add(\n",
    "    Conv2D(\n",
    "        filters=64,\n",
    "        kernel_size=(3, 3),\n",
    "        strides=(1, 1),\n",
    "        padding='same',\n",
    "        activation='relu'\n",
    "    )\n",
    ")\n",
    "model.add(MaxPooling2D(pool_size=(2, 2)))\n",
    "model.add(Dropout(0.25))"
   ]
  },
  {
   "cell_type": "markdown",
   "metadata": {},
   "source": [
    "** 예제코드5.9:풀링 층을 추가한 후의 모델의 출력 형식 **"
   ]
  },
  {
   "cell_type": "code",
   "execution_count": 9,
   "metadata": {},
   "outputs": [
    {
     "data": {
      "text/plain": [
       "(None, 8, 8, 64)"
      ]
     },
     "execution_count": 9,
     "metadata": {},
     "output_type": "execute_result"
    }
   ],
   "source": [
    "model.output_shape"
   ]
  },
  {
   "cell_type": "markdown",
   "metadata": {},
   "source": [
    "** 예제코드5.10:플래튼 층 추가 **"
   ]
  },
  {
   "cell_type": "code",
   "execution_count": 10,
   "metadata": {},
   "outputs": [
    {
     "data": {
      "text/plain": [
       "(None, 4096)"
      ]
     },
     "execution_count": 10,
     "metadata": {},
     "output_type": "execute_result"
    }
   ],
   "source": [
    "from tensorflow.python.keras.layers import Flatten\n",
    "\n",
    "model.add(Flatten())\n",
    "model.output_shape"
   ]
  },
  {
   "cell_type": "markdown",
   "metadata": {},
   "source": [
    "** 예제코드5.11:완전연결 계층 추가 **"
   ]
  },
  {
   "cell_type": "code",
   "execution_count": 11,
   "metadata": {},
   "outputs": [],
   "source": [
    "from tensorflow.python.keras.layers import Dense\n",
    "\n",
    "model.add(Dense(units=512, activation='relu'))\n",
    "model.add(Dropout(0.5))\n",
    "model.add(Dense(units=10, activation='softmax'))"
   ]
  },
  {
   "cell_type": "code",
   "execution_count": 12,
   "metadata": {},
   "outputs": [
    {
     "name": "stdout",
     "output_type": "stream",
     "text": [
      "Model: \"sequential\"\n",
      "_________________________________________________________________\n",
      "Layer (type)                 Output Shape              Param #   \n",
      "=================================================================\n",
      "conv2d (Conv2D)              (None, 32, 32, 32)        896       \n",
      "_________________________________________________________________\n",
      "conv2d_1 (Conv2D)            (None, 32, 32, 32)        9248      \n",
      "_________________________________________________________________\n",
      "max_pooling2d (MaxPooling2D) (None, 16, 16, 32)        0         \n",
      "_________________________________________________________________\n",
      "dropout (Dropout)            (None, 16, 16, 32)        0         \n",
      "_________________________________________________________________\n",
      "conv2d_2 (Conv2D)            (None, 16, 16, 64)        18496     \n",
      "_________________________________________________________________\n",
      "conv2d_3 (Conv2D)            (None, 16, 16, 64)        36928     \n",
      "_________________________________________________________________\n",
      "max_pooling2d_1 (MaxPooling2 (None, 8, 8, 64)          0         \n",
      "_________________________________________________________________\n",
      "dropout_1 (Dropout)          (None, 8, 8, 64)          0         \n",
      "_________________________________________________________________\n",
      "flatten (Flatten)            (None, 4096)              0         \n",
      "_________________________________________________________________\n",
      "dense (Dense)                (None, 512)               2097664   \n",
      "_________________________________________________________________\n",
      "dropout_2 (Dropout)          (None, 512)               0         \n",
      "_________________________________________________________________\n",
      "dense_1 (Dense)              (None, 10)                5130      \n",
      "=================================================================\n",
      "Total params: 2,168,362\n",
      "Trainable params: 2,168,362\n",
      "Non-trainable params: 0\n",
      "_________________________________________________________________\n"
     ]
    }
   ],
   "source": [
    "model.summary()"
   ]
  },
  {
   "cell_type": "markdown",
   "metadata": {},
   "source": [
    "** 예제코드5.12:작성한 모델에 데이터 적용 **"
   ]
  },
  {
   "cell_type": "code",
   "execution_count": 13,
   "metadata": {},
   "outputs": [
    {
     "name": "stdout",
     "output_type": "stream",
     "text": [
      "Train on 45000 samples, validate on 5000 samples\n",
      "Epoch 1/20\n",
      "45000/45000 [==============================] - 13s 293us/sample - loss: 1.5184 - acc: 0.4456 - val_loss: 1.1166 - val_acc: 0.5958\n",
      "Epoch 2/20\n",
      "45000/45000 [==============================] - 11s 247us/sample - loss: 1.1078 - acc: 0.6067 - val_loss: 0.9629 - val_acc: 0.6640\n",
      "Epoch 3/20\n",
      "45000/45000 [==============================] - 11s 247us/sample - loss: 0.9524 - acc: 0.6665 - val_loss: 0.8379 - val_acc: 0.7060\n",
      "Epoch 4/20\n",
      "45000/45000 [==============================] - 11s 247us/sample - loss: 0.8537 - acc: 0.6988 - val_loss: 0.7645 - val_acc: 0.7346\n",
      "Epoch 5/20\n",
      "45000/45000 [==============================] - 11s 247us/sample - loss: 0.7907 - acc: 0.7207 - val_loss: 0.6960 - val_acc: 0.7582\n",
      "Epoch 6/20\n",
      "45000/45000 [==============================] - 11s 247us/sample - loss: 0.7351 - acc: 0.7430 - val_loss: 0.7287 - val_acc: 0.7482\n",
      "Epoch 7/20\n",
      "45000/45000 [==============================] - 11s 246us/sample - loss: 0.6946 - acc: 0.7561 - val_loss: 0.7105 - val_acc: 0.7558\n",
      "Epoch 8/20\n",
      "45000/45000 [==============================] - 11s 247us/sample - loss: 0.6560 - acc: 0.7701 - val_loss: 0.6644 - val_acc: 0.7730\n",
      "Epoch 9/20\n",
      "45000/45000 [==============================] - 11s 247us/sample - loss: 0.6280 - acc: 0.7785 - val_loss: 0.6633 - val_acc: 0.7788\n",
      "Epoch 10/20\n",
      "45000/45000 [==============================] - 11s 247us/sample - loss: 0.5859 - acc: 0.7925 - val_loss: 0.6785 - val_acc: 0.7762\n",
      "Epoch 11/20\n",
      "45000/45000 [==============================] - 11s 247us/sample - loss: 0.5676 - acc: 0.8000 - val_loss: 0.6514 - val_acc: 0.7814\n",
      "Epoch 12/20\n",
      "45000/45000 [==============================] - 11s 247us/sample - loss: 0.5366 - acc: 0.8111 - val_loss: 0.6351 - val_acc: 0.7840\n",
      "Epoch 13/20\n",
      "45000/45000 [==============================] - 11s 247us/sample - loss: 0.5255 - acc: 0.8135 - val_loss: 0.6439 - val_acc: 0.7878\n",
      "Epoch 14/20\n",
      "45000/45000 [==============================] - 11s 246us/sample - loss: 0.5035 - acc: 0.8207 - val_loss: 0.7343 - val_acc: 0.7640\n",
      "Epoch 15/20\n",
      "45000/45000 [==============================] - 11s 247us/sample - loss: 0.4865 - acc: 0.8288 - val_loss: 0.6892 - val_acc: 0.7776\n",
      "Epoch 16/20\n",
      "45000/45000 [==============================] - 11s 246us/sample - loss: 0.4729 - acc: 0.8333 - val_loss: 0.6469 - val_acc: 0.7874\n",
      "Epoch 17/20\n",
      "45000/45000 [==============================] - 11s 246us/sample - loss: 0.4625 - acc: 0.8360 - val_loss: 0.6786 - val_acc: 0.7774\n",
      "Epoch 18/20\n",
      "45000/45000 [==============================] - 11s 247us/sample - loss: 0.4525 - acc: 0.8407 - val_loss: 0.6668 - val_acc: 0.7864\n",
      "Epoch 19/20\n",
      "45000/45000 [==============================] - 11s 247us/sample - loss: 0.4315 - acc: 0.8476 - val_loss: 0.6811 - val_acc: 0.7894\n",
      "Epoch 20/20\n",
      "45000/45000 [==============================] - 11s 247us/sample - loss: 0.4274 - acc: 0.8517 - val_loss: 0.6881 - val_acc: 0.7926\n"
     ]
    }
   ],
   "source": [
    "from tensorflow.python.keras.callbacks import TensorBoard\n",
    "\n",
    "model.compile(\n",
    "    optimizer='adam',\n",
    "    loss='categorical_crossentropy',\n",
    "    metrics=['accuracy']\n",
    ")\n",
    "\n",
    "history_model1 = model.fit(\n",
    "    x_train,\n",
    "    y_train,\n",
    "    batch_size=32,\n",
    "    epochs=20,\n",
    "    validation_split=0.1\n",
    ")"
   ]
  }
 ],
 "metadata": {
  "kernelspec": {
   "display_name": "Python 3",
   "language": "python",
   "name": "python3"
  },
  "language_info": {
   "codemirror_mode": {
    "name": "ipython",
    "version": 3
   },
   "file_extension": ".py",
   "mimetype": "text/x-python",
   "name": "python",
   "nbconvert_exporter": "python",
   "pygments_lexer": "ipython3",
   "version": "3.7.3"
  }
 },
 "nbformat": 4,
 "nbformat_minor": 2
}
